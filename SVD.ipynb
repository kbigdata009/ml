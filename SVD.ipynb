{
 "cells": [
  {
   "cell_type": "code",
   "execution_count": 30,
   "id": "74449408-8a81-4ee7-a5b4-4d3beeb1bba1",
   "metadata": {},
   "outputs": [
    {
     "name": "stdout",
     "output_type": "stream",
     "text": [
      "[[-0.212 -0.285 -0.574 -0.44 ]\n",
      " [-0.33   1.184  1.615  0.367]\n",
      " [-0.014  0.63   1.71  -1.327]\n",
      " [ 0.402 -0.191  1.404 -1.969]]\n"
     ]
    }
   ],
   "source": [
    "import numpy as np\n",
    "from numpy.linalg import svd\n",
    "\n",
    "np.random.seed(121)\n",
    "a = np.random.randn(4,4)\n",
    "print(np.round(a,3))"
   ]
  },
  {
   "cell_type": "code",
   "execution_count": 31,
   "id": "02cd84fe-b822-4d97-b69a-46ee214d0fe5",
   "metadata": {},
   "outputs": [
    {
     "name": "stdout",
     "output_type": "stream",
     "text": [
      "(4, 4) (4,) (4, 4)\n",
      "U matrix : `n [[-0.079 -0.318  0.867  0.376]\n",
      " [ 0.383  0.787  0.12   0.469]\n",
      " [ 0.656  0.022  0.357 -0.664]\n",
      " [ 0.645 -0.529 -0.328  0.444]]\n",
      "Sigma value : `n [3.423 2.023 0.463 0.079]\n",
      "V transpose matrix : `n [[ 0.041  0.224  0.786 -0.574]\n",
      " [-0.2    0.562  0.37   0.712]\n",
      " [-0.778  0.395 -0.333 -0.357]\n",
      " [-0.593 -0.692  0.366  0.189]]\n"
     ]
    }
   ],
   "source": [
    "U , Sigma , Vt = svd(a)\n",
    "print(U.shape , Sigma.shape , Vt.shape)\n",
    "print('U matrix : `n', np.round(U, 3))\n",
    "print('Sigma value : `n', np.round(Sigma, 3))\n",
    "print('V transpose matrix : `n', np.round(Vt, 3))"
   ]
  },
  {
   "cell_type": "code",
   "execution_count": 32,
   "id": "85a5c68b-7571-4297-ab1e-19a81fddc27f",
   "metadata": {},
   "outputs": [],
   "source": [
    "Sigma_mat = np.diag(Sigma)"
   ]
  },
  {
   "cell_type": "code",
   "execution_count": 33,
   "id": "6356d163-51e7-46b9-8679-dec12e786cdd",
   "metadata": {},
   "outputs": [
    {
     "data": {
      "text/plain": [
       "array([[3.4229581 , 0.        , 0.        , 0.        ],\n",
       "       [0.        , 2.02287339, 0.        , 0.        ],\n",
       "       [0.        , 0.        , 0.46263157, 0.        ],\n",
       "       [0.        , 0.        , 0.        , 0.07935069]])"
      ]
     },
     "execution_count": 33,
     "metadata": {},
     "output_type": "execute_result"
    }
   ],
   "source": [
    "Sigma_mat"
   ]
  },
  {
   "cell_type": "code",
   "execution_count": 36,
   "id": "11881c01-3562-4167-ab67-ff9595afa8f7",
   "metadata": {},
   "outputs": [
    {
     "data": {
      "text/plain": [
       "array([[-0.212, -0.285, -0.574, -0.44 ],\n",
       "       [-0.33 ,  1.184,  1.615,  0.367],\n",
       "       [-0.014,  0.63 ,  1.71 , -1.327],\n",
       "       [ 0.402, -0.191,  1.404, -1.969]])"
      ]
     },
     "execution_count": 36,
     "metadata": {},
     "output_type": "execute_result"
    }
   ],
   "source": [
    "np.round(np.dot(np.dot(U , Sigma_mat) ,Vt) ,3 )"
   ]
  },
  {
   "cell_type": "code",
   "execution_count": 46,
   "id": "51c42116-cabb-44c7-ac07-41aba50cb239",
   "metadata": {},
   "outputs": [],
   "source": [
    "U_2dim , Vt_2dim ,  Sigma_mat_2dim = U[: ,:2] , Vt[:2, :] , Sigma_mat[:2 ,:2]"
   ]
  },
  {
   "cell_type": "code",
   "execution_count": 44,
   "id": "8b52c924-fbfc-474d-b9cb-c2bcee798dbf",
   "metadata": {},
   "outputs": [
    {
     "data": {
      "text/plain": [
       "array([[ 0.04100747,  0.22367823,  0.78643002, -0.57429458],\n",
       "       [-0.20019867,  0.56209596,  0.37041464,  0.71187191]])"
      ]
     },
     "execution_count": 44,
     "metadata": {},
     "output_type": "execute_result"
    }
   ],
   "source": [
    "Vt_2dim"
   ]
  },
  {
   "cell_type": "code",
   "execution_count": 47,
   "id": "306b69b4-ee40-4050-b54e-79f51cf0956c",
   "metadata": {},
   "outputs": [
    {
     "data": {
      "text/plain": [
       "array([[3.4229581 , 0.        ],\n",
       "       [0.        , 2.02287339]])"
      ]
     },
     "execution_count": 47,
     "metadata": {},
     "output_type": "execute_result"
    }
   ],
   "source": [
    "Sigma_mat_2dim"
   ]
  },
  {
   "cell_type": "code",
   "execution_count": 48,
   "id": "2e3af850-ca9e-45c9-954a-f7baab8dd5cc",
   "metadata": {},
   "outputs": [
    {
     "data": {
      "text/plain": [
       "array([[ 0.118, -0.422, -0.451, -0.303],\n",
       "       [-0.265,  1.188,  1.62 ,  0.38 ],\n",
       "       [ 0.083,  0.528,  1.784, -1.258],\n",
       "       [ 0.305, -0.107,  1.341, -2.03 ]])"
      ]
     },
     "execution_count": 48,
     "metadata": {},
     "output_type": "execute_result"
    }
   ],
   "source": [
    "np.round(np.dot(np.dot(U_2dim , Sigma_mat_2dim) ,Vt_2dim) ,3 )"
   ]
  },
  {
   "cell_type": "markdown",
   "id": "8443f430-76c3-48cd-aa5b-eb13dda67e1c",
   "metadata": {},
   "source": [
    "#### sklearn.decomposition.TruncatedSVD\n",
    "* class sklearn.decomposition.TruncatedSVD(n_components=2, *, algorithm='randomized', n_iter=5, n_oversamples=10, power_iteration_normalizer='auto', random_state=None, tol=0.0)"
   ]
  },
  {
   "cell_type": "code",
   "execution_count": null,
   "id": "3cdaffb0-2453-461e-a3a6-87dbb98fedbc",
   "metadata": {},
   "outputs": [],
   "source": []
  }
 ],
 "metadata": {
  "kernelspec": {
   "display_name": "Python 3 (ipykernel)",
   "language": "python",
   "name": "python3"
  },
  "language_info": {
   "codemirror_mode": {
    "name": "ipython",
    "version": 3
   },
   "file_extension": ".py",
   "mimetype": "text/x-python",
   "name": "python",
   "nbconvert_exporter": "python",
   "pygments_lexer": "ipython3",
   "version": "3.12.0"
  }
 },
 "nbformat": 4,
 "nbformat_minor": 5
}
