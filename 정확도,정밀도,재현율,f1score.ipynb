{
 "cells": [
  {
   "cell_type": "code",
   "execution_count": 6,
   "id": "9797b32d-fa57-411b-9431-06326390b946",
   "metadata": {},
   "outputs": [],
   "source": [
    "import warnings\n",
    "warnings.filterwarnings('ignore')"
   ]
  },
  {
   "cell_type": "code",
   "execution_count": 7,
   "id": "e9e86d56-2231-4072-92aa-b9acdea9e92c",
   "metadata": {},
   "outputs": [],
   "source": [
    "import pandas as pd\n",
    "\n",
    "train_df = pd.read_csv('./datasets/titanic_train.csv')\n",
    "\n",
    "titanic_train_df = train_df[['Pclass' , 'Sex', 'Age' , 'Survived']]"
   ]
  },
  {
   "cell_type": "code",
   "execution_count": 8,
   "id": "83203218-cfb6-4fdc-b942-64a6cc73f3de",
   "metadata": {},
   "outputs": [],
   "source": [
    "from sklearn.preprocessing import LabelEncoder\n",
    "\n",
    "\n",
    "encoder = LabelEncoder()\n",
    "result_train = encoder.fit_transform(titanic_train_df['Sex'])\n",
    "# print(result)\n",
    "titanic_train_df['Sex']=result_train"
   ]
  },
  {
   "cell_type": "code",
   "execution_count": 15,
   "id": "e2293b16-b3a9-444f-8111-25ae9f50a987",
   "metadata": {},
   "outputs": [
    {
     "name": "stdout",
     "output_type": "stream",
     "text": [
      "Survived\n",
      "0    117\n",
      "1     62\n",
      "Name: count, dtype: int64\n",
      "오차 행렬\n",
      "[[103  14]\n",
      " [ 16  46]]\n",
      "정확도0.8324022346368715, 정밀도:0.7666666666666667, 재현율:0.7419354838709677 , f1score : 0.7540983606557377\n"
     ]
    }
   ],
   "source": [
    "\n",
    "\n",
    "import pandas as pd \n",
    "train_df = pd.read_csv(\"./datasets/titanic_train.csv\")\n",
    "titanic_train_df = train_df[['Pclass' , 'Sex', 'Age' , 'Survived']]\n",
    "from sklearn.preprocessing import LabelEncoder \n",
    "encoder = LabelEncoder()\n",
    "titanic_train_df['Sex']=encoder.fit_transform(titanic_train_df['Sex']) #fit_transform하면 변하면서 적용도 한꺼번에 해줌 \n",
    "titanic_train_df = titanic_train_df.fillna(titanic_train_df['Age'].mean())\n",
    "\n",
    "from sklearn.metrics import accuracy_score, precision_score, recall_score, confusion_matrix, f1_score\n",
    "\n",
    "def get_clf_eval(y_test, pred):\n",
    "    confusion = confusion_matrix(y_test, pred)\n",
    "    accuracy = accuracy_score(y_test,pred)\n",
    "    precision = precision_score(y_test, pred)\n",
    "    recall = recall_score(y_test, pred)\n",
    "    f1score = f1_score(y_test, pred)\n",
    "    print('오차 행렬')\n",
    "    print(confusion)\n",
    "    print(f'정확도{accuracy}, 정밀도:{precision}, 재현율:{recall} , f1score : {f1score}')\n",
    "\n",
    "import numpy as np \n",
    "import pandas as pd \n",
    "\n",
    "from sklearn.model_selection import train_test_split\n",
    "from sklearn.linear_model import LogisticRegression\n",
    "\n",
    "X_train, X_test, y_train, y_test = train_test_split(titanic_train_df[['Pclass' , 'Sex', 'Age']], \\\n",
    "                                                    titanic_train_df['Survived'], test_size=0.2, random_state=10 )\n",
    "\n",
    "print(y_test.value_counts())\n",
    "\n",
    "lr_clf= LogisticRegression()\n",
    "\n",
    "lr_clf.fit(X_train, y_train)\n",
    "pred = lr_clf.predict(X_test)\n",
    "get_clf_eval(y_test,pred)"
   ]
  },
  {
   "cell_type": "code",
   "execution_count": 20,
   "id": "3d644015-ab62-493a-a1f5-1c3acc66a481",
   "metadata": {},
   "outputs": [],
   "source": [
    "pred_proba = lr_clf.predict_proba(X_test)"
   ]
  },
  {
   "cell_type": "code",
   "execution_count": 18,
   "id": "18b58b53-2cdf-4c10-9913-7d9148fec745",
   "metadata": {
    "scrolled": true
   },
   "outputs": [
    {
     "data": {
      "text/plain": [
       "array([0, 0, 0, 1, 1, 0, 0, 0, 0, 0, 0, 1, 1, 0, 0, 0, 0, 0, 1, 0, 0, 0,\n",
       "       1, 0, 0, 0, 0, 1, 0, 1, 1, 0, 1, 0, 1, 0, 1, 1, 0, 0, 0, 0, 0, 1,\n",
       "       0, 0, 0, 0, 1, 0, 0, 0, 0, 0, 0, 1, 0, 1, 1, 0, 0, 1, 1, 1, 0, 0,\n",
       "       0, 0, 0, 1, 0, 0, 0, 0, 1, 0, 0, 0, 0, 0, 0, 0, 0, 1, 1, 0, 1, 1,\n",
       "       0, 1, 0, 0, 0, 0, 1, 1, 1, 0, 1, 0, 0, 0, 0, 0, 1, 1, 0, 1, 1, 0,\n",
       "       1, 0, 1, 0, 0, 0, 0, 1, 1, 0, 1, 0, 1, 1, 1, 1, 1, 0, 0, 0, 1, 0,\n",
       "       0, 1, 1, 1, 0, 0, 1, 0, 1, 0, 0, 0, 0, 0, 0, 0, 0, 0, 0, 0, 1, 0,\n",
       "       0, 1, 0, 0, 0, 0, 0, 1, 1, 0, 0, 1, 0, 0, 1, 0, 1, 0, 0, 1, 0, 0,\n",
       "       0, 0, 0], dtype=int64)"
      ]
     },
     "execution_count": 18,
     "metadata": {},
     "output_type": "execute_result"
    }
   ],
   "source": [
    "pred"
   ]
  },
  {
   "cell_type": "code",
   "execution_count": 21,
   "id": "b30de189-dbcf-4790-9c5d-f11efa59ae22",
   "metadata": {},
   "outputs": [
    {
     "data": {
      "text/plain": [
       "array([[0.91003707, 0.08996293],\n",
       "       [0.8719348 , 0.1280652 ],\n",
       "       [0.88860201, 0.11139799],\n",
       "       [0.16591157, 0.83408843],\n",
       "       [0.09779659, 0.90220341],\n",
       "       [0.86895847, 0.13104153],\n",
       "       [0.88596237, 0.11403763],\n",
       "       [0.82746927, 0.17253073],\n",
       "       [0.90334051, 0.09665949],\n",
       "       [0.87771457, 0.12228543],\n",
       "       [0.72851968, 0.27148032],\n",
       "       [0.11883148, 0.88116852],\n",
       "       [0.1901147 , 0.8098853 ],\n",
       "       [0.51203098, 0.48796902],\n",
       "       [0.74889011, 0.25110989],\n",
       "       [0.75234424, 0.24765576],\n",
       "       [0.89790635, 0.10209365],\n",
       "       [0.81695748, 0.18304252],\n",
       "       [0.41099591, 0.58900409],\n",
       "       [0.89790635, 0.10209365],\n",
       "       [0.89790635, 0.10209365],\n",
       "       [0.78201723, 0.21798277],\n",
       "       [0.24369356, 0.75630644],\n",
       "       [0.88596237, 0.11403763],\n",
       "       [0.84298763, 0.15701237],\n",
       "       [0.8719348 , 0.1280652 ],\n",
       "       [0.8719348 , 0.1280652 ],\n",
       "       [0.3474712 , 0.6525288 ],\n",
       "       [0.84550435, 0.15449565],\n",
       "       [0.10500898, 0.89499102],\n",
       "       [0.09779659, 0.90220341],\n",
       "       [0.75234424, 0.24765576],\n",
       "       [0.31956702, 0.68043298],\n",
       "       [0.9142663 , 0.0857337 ],\n",
       "       [0.34891963, 0.65108037],\n",
       "       [0.89790635, 0.10209365],\n",
       "       [0.4046218 , 0.5953782 ],\n",
       "       [0.44170111, 0.55829889],\n",
       "       [0.89790635, 0.10209365],\n",
       "       [0.90334051, 0.09665949],\n",
       "       [0.92123566, 0.07876434],\n",
       "       [0.75868617, 0.24131383],\n",
       "       [0.89790635, 0.10209365],\n",
       "       [0.36100538, 0.63899462],\n",
       "       [0.62975589, 0.37024411],\n",
       "       [0.5074196 , 0.4925804 ],\n",
       "       [0.87485328, 0.12514672],\n",
       "       [0.87485328, 0.12514672],\n",
       "       [0.06160434, 0.93839566],\n",
       "       [0.61736559, 0.38263441],\n",
       "       [0.55991914, 0.44008086],\n",
       "       [0.80780741, 0.19219259],\n",
       "       [0.91003707, 0.08996293],\n",
       "       [0.63588868, 0.36411132],\n",
       "       [0.60023716, 0.39976284],\n",
       "       [0.06314794, 0.93685206],\n",
       "       [0.80893119, 0.19106881],\n",
       "       [0.44131656, 0.55868344],\n",
       "       [0.13871096, 0.86128904],\n",
       "       [0.8832684 , 0.1167316 ],\n",
       "       [0.88596237, 0.11403763],\n",
       "       [0.13558761, 0.86441239],\n",
       "       [0.44131656, 0.55868344],\n",
       "       [0.41740004, 0.58259996],\n",
       "       [0.96589002, 0.03410998],\n",
       "       [0.8659236 , 0.1340764 ],\n",
       "       [0.74889011, 0.25110989],\n",
       "       [0.89982791, 0.10017209],\n",
       "       [0.90785268, 0.09214732],\n",
       "       [0.2157005 , 0.7842995 ],\n",
       "       [0.67908663, 0.32091337],\n",
       "       [0.92406094, 0.07593906],\n",
       "       [0.88596237, 0.11403763],\n",
       "       [0.9525893 , 0.0474107 ],\n",
       "       [0.22476483, 0.77523517],\n",
       "       [0.85967564, 0.14032436],\n",
       "       [0.88051937, 0.11948063],\n",
       "       [0.81297748, 0.18702252],\n",
       "       [0.51203098, 0.48796902],\n",
       "       [0.90895077, 0.09104923],\n",
       "       [0.89372124, 0.10627876],\n",
       "       [0.89790635, 0.10209365],\n",
       "       [0.70714297, 0.29285703],\n",
       "       [0.32927465, 0.67072535],\n",
       "       [0.1901147 , 0.8098853 ],\n",
       "       [0.77288477, 0.22711523],\n",
       "       [0.10751555, 0.89248445],\n",
       "       [0.13871096, 0.86128904],\n",
       "       [0.75382096, 0.24617904],\n",
       "       [0.16691791, 0.83308209],\n",
       "       [0.90334051, 0.09665949],\n",
       "       [0.89790635, 0.10209365],\n",
       "       [0.51203098, 0.48796902],\n",
       "       [0.89790635, 0.10209365],\n",
       "       [0.10751555, 0.89248445],\n",
       "       [0.44131656, 0.55868344],\n",
       "       [0.37326976, 0.62673024],\n",
       "       [0.89790635, 0.10209365],\n",
       "       [0.06314794, 0.93685206],\n",
       "       [0.70714297, 0.29285703],\n",
       "       [0.80481837, 0.19518163],\n",
       "       [0.66586341, 0.33413659],\n",
       "       [0.89372124, 0.10627876],\n",
       "       [0.67750363, 0.32249637],\n",
       "       [0.24369356, 0.75630644],\n",
       "       [0.06472754, 0.93527246],\n",
       "       [0.75234424, 0.24765576],\n",
       "       [0.3904516 , 0.6095484 ],\n",
       "       [0.2388619 , 0.7611381 ],\n",
       "       [0.52718893, 0.47281107],\n",
       "       [0.20690416, 0.79309584],\n",
       "       [0.92027274, 0.07972726],\n",
       "       [0.08612747, 0.91387253],\n",
       "       [0.89790635, 0.10209365],\n",
       "       [0.86895847, 0.13104153],\n",
       "       [0.66586341, 0.33413659],\n",
       "       [0.67170989, 0.32829011],\n",
       "       [0.07142028, 0.92857972],\n",
       "       [0.41740004, 0.58259996],\n",
       "       [0.50082161, 0.49917839],\n",
       "       [0.10015026, 0.89984974],\n",
       "       [0.81695748, 0.18304252],\n",
       "       [0.08675461, 0.91324539],\n",
       "       [0.36711606, 0.63288394],\n",
       "       [0.46289421, 0.53710579],\n",
       "       [0.44131656, 0.55868344],\n",
       "       [0.08612747, 0.91387253],\n",
       "       [0.89790635, 0.10209365],\n",
       "       [0.89790635, 0.10209365],\n",
       "       [0.60023716, 0.39976284],\n",
       "       [0.12085028, 0.87914972],\n",
       "       [0.87771457, 0.12228543],\n",
       "       [0.8832684 , 0.1167316 ],\n",
       "       [0.08612747, 0.91387253],\n",
       "       [0.19421191, 0.80578809],\n",
       "       [0.44131656, 0.55868344],\n",
       "       [0.90785268, 0.09214732],\n",
       "       [0.51203098, 0.48796902],\n",
       "       [0.06968951, 0.93031049],\n",
       "       [0.93914033, 0.06085967],\n",
       "       [0.4465347 , 0.5534653 ],\n",
       "       [0.88860201, 0.11139799],\n",
       "       [0.51203098, 0.48796902],\n",
       "       [0.68892778, 0.31107222],\n",
       "       [0.89790635, 0.10209365],\n",
       "       [0.89790635, 0.10209365],\n",
       "       [0.75234424, 0.24765576],\n",
       "       [0.87112255, 0.12887745],\n",
       "       [0.91217469, 0.08782531],\n",
       "       [0.92123566, 0.07876434],\n",
       "       [0.90562074, 0.09437926],\n",
       "       [0.61111161, 0.38888839],\n",
       "       [0.09102919, 0.90897081],\n",
       "       [0.9328188 , 0.0671812 ],\n",
       "       [0.90562074, 0.09437926],\n",
       "       [0.36711606, 0.63288394],\n",
       "       [0.89790635, 0.10209365],\n",
       "       [0.72851968, 0.27148032],\n",
       "       [0.89790635, 0.10209365],\n",
       "       [0.89790635, 0.10209365],\n",
       "       [0.71795427, 0.28204573],\n",
       "       [0.44131656, 0.55868344],\n",
       "       [0.48262848, 0.51737152],\n",
       "       [0.89790635, 0.10209365],\n",
       "       [0.8659236 , 0.1340764 ],\n",
       "       [0.44131656, 0.55868344],\n",
       "       [0.90334051, 0.09665949],\n",
       "       [0.86895847, 0.13104153],\n",
       "       [0.44131656, 0.55868344],\n",
       "       [0.87485328, 0.12514672],\n",
       "       [0.44131656, 0.55868344],\n",
       "       [0.58750606, 0.41249394],\n",
       "       [0.95713597, 0.04286403],\n",
       "       [0.44131656, 0.55868344],\n",
       "       [0.72708252, 0.27291748],\n",
       "       [0.69609267, 0.30390733],\n",
       "       [0.92768329, 0.07231671],\n",
       "       [0.95014745, 0.04985255],\n",
       "       [0.51203098, 0.48796902]])"
      ]
     },
     "execution_count": 21,
     "metadata": {},
     "output_type": "execute_result"
    }
   ],
   "source": [
    "pred_proba"
   ]
  },
  {
   "cell_type": "code",
   "execution_count": 24,
   "id": "97bec6f7-d1c3-4149-bf49-4150e0b9f09d",
   "metadata": {},
   "outputs": [
    {
     "name": "stdout",
     "output_type": "stream",
     "text": [
      "오차 행렬\n",
      "[[103  14]\n",
      " [ 16  46]]\n",
      "정확도0.8324022346368715, 정밀도:0.7666666666666667, 재현율:0.7419354838709677 , f1score : 0.7540983606557377\n"
     ]
    }
   ],
   "source": [
    "from sklearn.preprocessing import Binarizer\n",
    "\n",
    "custom_threshold = 0.5\n",
    "\n",
    "pred_proba_1 = pred_proba[:,1].reshape(-1,1)\n",
    "\n",
    "binarizer = Binarizer(threshold=custom_threshold).fit(pred_proba_1)\n",
    "custom_predict = binarizer.transform(pred_proba_1)\n",
    "custom_predict\n",
    "get_clf_eval(y_test, custom_predict)"
   ]
  },
  {
   "cell_type": "code",
   "execution_count": 35,
   "id": "62d7d7ae-7857-4918-8654-c69432a7f2de",
   "metadata": {},
   "outputs": [
    {
     "name": "stdout",
     "output_type": "stream",
     "text": [
      "오차 행렬\n",
      "[[97 20]\n",
      " [11 51]]\n",
      "정확도0.8268156424581006, 정밀도:0.7183098591549296, 재현율:0.8225806451612904 , f1score : 0.7669172932330828\n"
     ]
    }
   ],
   "source": [
    "from sklearn.preprocessing import Binarizer\n",
    "\n",
    "custom_threshold = 0.4\n",
    "\n",
    "pred_proba_1 = pred_proba[:,1].reshape(-1,1)\n",
    "\n",
    "binarizer = Binarizer(threshold=custom_threshold).fit(pred_proba_1)\n",
    "custom_predict = binarizer.transform(pred_proba_1)\n",
    "custom_predict\n",
    "get_clf_eval(y_test, custom_predict)"
   ]
  },
  {
   "cell_type": "code",
   "execution_count": 36,
   "id": "c39400bf-b45b-44c6-b35a-d0931f8fef11",
   "metadata": {},
   "outputs": [
    {
     "name": "stdout",
     "output_type": "stream",
     "text": [
      "임계값 :  0.4\n",
      "오차 행렬\n",
      "[[97 20]\n",
      " [11 51]]\n",
      "정확도0.8268156424581006, 정밀도:0.7183098591549296, 재현율:0.8225806451612904 , f1score : 0.7669172932330828\n",
      "임계값 :  0.45\n",
      "오차 행렬\n",
      "[[97 20]\n",
      " [13 49]]\n",
      "정확도0.8156424581005587, 정밀도:0.7101449275362319, 재현율:0.7903225806451613 , f1score : 0.7480916030534351\n",
      "임계값 :  0.5\n",
      "오차 행렬\n",
      "[[103  14]\n",
      " [ 16  46]]\n",
      "정확도0.8324022346368715, 정밀도:0.7666666666666667, 재현율:0.7419354838709677 , f1score : 0.7540983606557377\n",
      "임계값 :  0.55\n",
      "오차 행렬\n",
      "[[103  14]\n",
      " [ 18  44]]\n",
      "정확도0.8212290502793296, 정밀도:0.7586206896551724, 재현율:0.7096774193548387 , f1score : 0.7333333333333333\n",
      "임계값 :  0.6\n",
      "오차 행렬\n",
      "[[114   3]\n",
      " [ 23  39]]\n",
      "정확도0.8547486033519553, 정밀도:0.9285714285714286, 재현율:0.6290322580645161 , f1score : 0.75\n"
     ]
    }
   ],
   "source": [
    "thresholds = [0.4, 0.45, 0.50, 0.55, 0.60]\n",
    "\n",
    "def get_eval_by_threshold(y_test, pred_proba_c1, thresholds):\n",
    "    #thresholds list 객체내의 값을 차례로 iteration하면서 Evaluation 수행\n",
    "    for custom_threshold in thresholds:\n",
    "        binarizer = Binarizer(threshold=custom_threshold).fit(pred_proba_c1)\n",
    "        custom_predict = binarizer.transform(pred_proba_c1)\n",
    "        print('임계값 : ', custom_threshold)\n",
    "        get_clf_eval(y_test, custom_predict)\n",
    "        \n",
    "get_eval_by_threshold(y_test, pred_proba[:,1].reshape(-1,1), thresholds)"
   ]
  },
  {
   "cell_type": "code",
   "execution_count": 38,
   "id": "18b98cbc-113d-4d2e-8092-70e7e74fa4c4",
   "metadata": {},
   "outputs": [],
   "source": [
    "from sklearn.metrics import precision_recall_curve\n",
    "\n",
    "precisions , recalls , thresholds = precision_recall_curve(y_test, pred_proba[:,1])\n"
   ]
  },
  {
   "cell_type": "code",
   "execution_count": 47,
   "id": "0839b0c0-1c34-4b44-a2eb-000540877d9f",
   "metadata": {},
   "outputs": [
    {
     "data": {
      "text/plain": [
       "array([0.03410998, 0.04286403, 0.0474107 , 0.04985255, 0.06085967,\n",
       "       0.0671812 , 0.07231671, 0.07593906, 0.07876434, 0.07972726,\n",
       "       0.0857337 , 0.08782531, 0.08996293, 0.09104923, 0.09214732,\n",
       "       0.09437926, 0.09665949, 0.10017209, 0.10209365, 0.10627876,\n",
       "       0.11139799, 0.11403763, 0.1167316 , 0.11948063, 0.12228543,\n",
       "       0.12514672, 0.1280652 , 0.12887745, 0.13104153, 0.1340764 ,\n",
       "       0.14032436, 0.15449565, 0.15701237, 0.17253073, 0.18304252,\n",
       "       0.18702252, 0.19106881, 0.19219259, 0.19518163, 0.21798277,\n",
       "       0.22711523, 0.24131383, 0.24617904, 0.24765576, 0.25110989,\n",
       "       0.27148032, 0.27291748, 0.28204573, 0.29285703, 0.30390733,\n",
       "       0.31107222, 0.32091337, 0.32249637, 0.32829011, 0.33413659,\n",
       "       0.36411132, 0.37024411, 0.38263441, 0.38888839, 0.39976284,\n",
       "       0.41249394, 0.44008086, 0.47281107, 0.48796902, 0.4925804 ,\n",
       "       0.49917839, 0.51737152, 0.53710579, 0.5534653 , 0.55829889,\n",
       "       0.55868344, 0.58259996, 0.58900409, 0.5953782 , 0.6095484 ,\n",
       "       0.62673024, 0.63288394, 0.63899462, 0.65108037, 0.6525288 ,\n",
       "       0.67072535, 0.68043298, 0.75630644, 0.7611381 , 0.77523517,\n",
       "       0.7842995 , 0.79309584, 0.80578809, 0.8098853 , 0.83308209,\n",
       "       0.83408843, 0.86128904, 0.86441239, 0.87914972, 0.88116852,\n",
       "       0.89248445, 0.89499102, 0.89984974, 0.90220341, 0.90897081,\n",
       "       0.91324539, 0.91387253, 0.92857972, 0.93031049, 0.93527246,\n",
       "       0.93685206, 0.93839566])"
      ]
     },
     "execution_count": 47,
     "metadata": {},
     "output_type": "execute_result"
    }
   ],
   "source": [
    "thresholds"
   ]
  },
  {
   "cell_type": "code",
   "execution_count": 42,
   "id": "4b54abac-8624-43d2-9d01-0b69bd7c4546",
   "metadata": {},
   "outputs": [
    {
     "data": {
      "text/plain": [
       "0.9354838709677419"
      ]
     },
     "execution_count": 42,
     "metadata": {},
     "output_type": "execute_result"
    }
   ],
   "source": [
    "recalls[21]"
   ]
  },
  {
   "cell_type": "code",
   "execution_count": 43,
   "id": "f0f97519-8b1e-44a8-811e-35f3e64f8c7b",
   "metadata": {},
   "outputs": [
    {
     "data": {
      "text/plain": [
       "0.11403762941716501"
      ]
     },
     "execution_count": 43,
     "metadata": {},
     "output_type": "execute_result"
    }
   ],
   "source": [
    "thresholds[21]"
   ]
  },
  {
   "cell_type": "code",
   "execution_count": 48,
   "id": "d58bb40c-1d08-4919-80ec-15ccf4f5e970",
   "metadata": {},
   "outputs": [
    {
     "data": {
      "image/png": "[encoded data removed]",
      "text/plain": [
       "<Figure size 800x600 with 1 Axes>"
      ]
     },
     "metadata": {},
     "output_type": "display_data"
    }
   ],
   "source": [
    "import matplotlib.pyplot as plt \n",
    "import matplotlib.ticker as ticker \n",
    "%matplotlib inline\n",
    "\n",
    "def precision_recall_curve_plot(y_test, pred_proba_c1):\n",
    "    precisions, recalls, thresholds = precision_recall_curve (y_test,pred_proba_c1)\n",
    "    \n",
    "    plt.figure(figsize = (8,6))\n",
    "    threshold_boundary = thresholds.shape[0]\n",
    "    plt.plot(thresholds, precisions[0:threshold_boundary], linestyle = '--', label =' precision')\n",
    "    plt.plot(thresholds, recalls[0:threshold_boundary], label = 'recall')\n",
    "    \n",
    "    start, end = plt.xlim()\n",
    "    plt.xticks(np.round(np.arange(start,end,0.1),2))\n",
    "    \n",
    "    plt.xlabel('Threshold value'); plt.ylabel('precision and recall value')\n",
    "    plt.legend(); plt.grid()\n",
    "    plt.show()\n",
    "    \n",
    "precision_recall_curve_plot(y_test, lr_clf.predict_proba(X_test)[:,1])"
   ]
  },
  {
   "cell_type": "code",
   "execution_count": null,
   "id": "d9ea2efc-da72-40eb-ba00-3d4247ce2cec",
   "metadata": {},
   "outputs": [],
   "source": []
  }
 ],
 "metadata": {
  "kernelspec": {
   "display_name": "Python 3 (ipykernel)",
   "language": "python",
   "name": "python3"
  },
  "language_info": {
   "codemirror_mode": {
    "name": "ipython",
    "version": 3
   },
   "file_extension": ".py",
   "mimetype": "text/x-python",
   "name": "python",
   "nbconvert_exporter": "python",
   "pygments_lexer": "ipython3",
   "version": "3.12.0"
  }
 },
 "nbformat": 4,
 "nbformat_minor": 5
}
