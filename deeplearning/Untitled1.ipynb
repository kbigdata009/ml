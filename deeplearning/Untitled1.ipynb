{
 "cells": [
  {
   "cell_type": "code",
   "execution_count": 1,
   "id": "7713c910-d8ab-4056-a0b8-3e3bd636b13d",
   "metadata": {},
   "outputs": [
    {
     "name": "stdout",
     "output_type": "stream",
     "text": [
      "WARNING:tensorflow:From C:\\Users\\user\\AppData\\Local\\Programs\\Python\\Python311\\Lib\\site-packages\\keras\\src\\losses.py:2976: The name tf.losses.sparse_softmax_cross_entropy is deprecated. Please use tf.compat.v1.losses.sparse_softmax_cross_entropy instead.\n",
      "\n",
      "WARNING:tensorflow:From C:\\Users\\user\\AppData\\Local\\Programs\\Python\\Python311\\Lib\\site-packages\\keras\\src\\backend.py:1398: The name tf.executing_eagerly_outside_functions is deprecated. Please use tf.compat.v1.executing_eagerly_outside_functions instead.\n",
      "\n",
      "Model: \"sequential_4\"\n",
      "_________________________________________________________________\n",
      " Layer (type)                Output Shape              Param #   \n",
      "=================================================================\n",
      " dense_12 (Dense)            (None, 12)                732       \n",
      "                                                                 \n",
      " dense_13 (Dense)            (None, 10)                130       \n",
      "                                                                 \n",
      " dense_14 (Dense)            (None, 1)                 11        \n",
      "                                                                 \n",
      "=================================================================\n",
      "Total params: 873 (3.41 KB)\n",
      "Trainable params: 873 (3.41 KB)\n",
      "Non-trainable params: 0 (0.00 Byte)\n",
      "_________________________________________________________________\n"
     ]
    }
   ],
   "source": [
    "import tensorflow as tf\n",
    "\n",
    "model = tf.keras.saving.load_model('./models/sonar_model.h5')\n",
    "model.summary()"
   ]
  },
  {
   "cell_type": "code",
   "execution_count": 2,
   "id": "d784cb0b-d510-46b2-a75b-ddf0d7581cbc",
   "metadata": {},
   "outputs": [
    {
     "name": "stdout",
     "output_type": "stream",
     "text": [
      "WARNING:tensorflow:From C:\\Users\\user\\AppData\\Local\\Programs\\Python\\Python311\\Lib\\site-packages\\keras\\src\\utils\\tf_utils.py:492: The name tf.ragged.RaggedTensorValue is deprecated. Please use tf.compat.v1.ragged.RaggedTensorValue instead.\n",
      "\n",
      "2/2 [==============================] - 1s 21ms/step - loss: 0.4815 - accuracy: 0.8095\n",
      "정확도:0.8095238208770752\n"
     ]
    }
   ],
   "source": [
    "import pandas as pd \n",
    "from sklearn.preprocessing import LabelEncoder\n",
    "from keras.models import Sequential\n",
    "import tensorflow as tf \n",
    "from keras.layers import Dense\n",
    "#from keras.layers.core import Dense \n",
    "\n",
    "df=pd.read_csv('./datasets/sonar.csv',header=None)\n",
    "import numpy as np \n",
    "np.random.seed(3)\n",
    "tf.random.set_seed(3)\n",
    "\n",
    "data = df.values \n",
    "x=data[:,:60]\n",
    "x=np.asarray(x).astype(np.float32)\n",
    "\n",
    "y=data[:,60]\n",
    "\n",
    "e= LabelEncoder()\n",
    "e.fit(y)\n",
    "y= e.transform(y)\n",
    "\n",
    "from sklearn.model_selection import train_test_split\n",
    "X_train , X_test , y_train, y_test = train_test_split(x ,y , test_size=0.3, random_state=112)\n",
    "\n",
    "print(f'정확도:{model.evaluate(X_test,y_test)[1]}')"
   ]
  },
  {
   "cell_type": "code",
   "execution_count": null,
   "id": "7a6ca2e9-d1ea-43ac-bb63-6138481572ba",
   "metadata": {},
   "outputs": [],
   "source": []
  }
 ],
 "metadata": {
  "kernelspec": {
   "display_name": "Python 3 (ipykernel)",
   "language": "python",
   "name": "python3"
  },
  "language_info": {
   "codemirror_mode": {
    "name": "ipython",
    "version": 3
   },
   "file_extension": ".py",
   "mimetype": "text/x-python",
   "name": "python",
   "nbconvert_exporter": "python",
   "pygments_lexer": "ipython3",
   "version": "3.11.1"
  }
 },
 "nbformat": 4,
 "nbformat_minor": 5
}
