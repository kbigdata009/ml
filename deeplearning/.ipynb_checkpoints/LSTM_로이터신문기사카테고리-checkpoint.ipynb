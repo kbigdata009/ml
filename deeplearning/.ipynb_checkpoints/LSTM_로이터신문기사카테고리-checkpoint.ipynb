{
 "cells": [
  {
   "cell_type": "markdown",
   "id": "fad9aeee-45ac-45a0-aea0-111f9c57ec60",
   "metadata": {},
   "source": [
    "#### tf.keras.datasets.reuters.load_data\n",
    "* tf.keras.datasets.reuters.load_data(\r\n",
    "    path='reuters.npz',\r\n",
    "    num_words=None,\r\n",
    "    skip_top=0,\r\n",
    "    maxlen=None,\r\n",
    "    test_split=0.2,\r\n",
    "    seed=113,\r\n",
    "    start_char=1,\r\n",
    "    oov_char=2,\r\n",
    "    index_from=3,\r\n",
    "    **kwargs\r\n",
    ")"
   ]
  },
  {
   "cell_type": "code",
   "execution_count": 19,
   "id": "94a6e670-0959-4929-b4f0-c00240fd1459",
   "metadata": {},
   "outputs": [],
   "source": [
    "from tensorflow.keras.datasets.reuters import load_data ,get_label_names ,get_word_index\n",
    "(x_train, y_train), (x_test, y_test) = load_data(num_words=1000)"
   ]
  },
  {
   "cell_type": "code",
   "execution_count": 20,
   "id": "f29fce97-9c5a-4e01-a6a7-9bb46c89b32d",
   "metadata": {},
   "outputs": [
    {
     "data": {
      "text/plain": [
       "(8982,)"
      ]
     },
     "execution_count": 20,
     "metadata": {},
     "output_type": "execute_result"
    }
   ],
   "source": [
    "x_train.shape"
   ]
  },
  {
   "cell_type": "code",
   "execution_count": 45,
   "id": "11521c3e-925e-44c4-8e6b-79671d715a33",
   "metadata": {},
   "outputs": [
    {
     "data": {
      "text/plain": [
       "59"
      ]
     },
     "execution_count": 45,
     "metadata": {},
     "output_type": "execute_result"
    }
   ],
   "source": [
    "len(x_train[11])"
   ]
  },
  {
   "cell_type": "code",
   "execution_count": 39,
   "id": "cf458027-cde6-4071-988a-3448acd01956",
   "metadata": {},
   "outputs": [
    {
     "data": {
      "text/plain": [
       "34"
      ]
     },
     "execution_count": 39,
     "metadata": {},
     "output_type": "execute_result"
    }
   ],
   "source": [
    "y_train[200]"
   ]
  },
  {
   "cell_type": "code",
   "execution_count": 42,
   "id": "21fa1288-8c03-4c5f-a67a-39ac88ae70e7",
   "metadata": {},
   "outputs": [
    {
     "data": {
      "text/plain": [
       "46"
      ]
     },
     "execution_count": 42,
     "metadata": {},
     "output_type": "execute_result"
    }
   ],
   "source": [
    "len(get_label_names())"
   ]
  },
  {
   "cell_type": "code",
   "execution_count": 43,
   "id": "e3cdaff8-2e90-4694-8ca1-45e16aabb6bd",
   "metadata": {},
   "outputs": [
    {
     "data": {
      "text/plain": [
       "array([ 3,  4,  3, ..., 25,  3, 25], dtype=int64)"
      ]
     },
     "execution_count": 43,
     "metadata": {},
     "output_type": "execute_result"
    }
   ],
   "source": [
    "y_train"
   ]
  },
  {
   "cell_type": "code",
   "execution_count": 25,
   "id": "44b3ea94-ef80-48da-8e72-f484a62eb908",
   "metadata": {},
   "outputs": [],
   "source": [
    "# tf.keras.datasets.reuters.get_word_index(path='reuters_word_index.json')\n",
    "word_index = get_word_index()"
   ]
  },
  {
   "cell_type": "code",
   "execution_count": 26,
   "id": "568530bd-5fa9-4887-9975-cf07885900e9",
   "metadata": {},
   "outputs": [],
   "source": [
    "import pandas as pd\n",
    "\n",
    "reuters_word_index_series = pd.Series(data=word_index.keys() , index=word_index.values())"
   ]
  },
  {
   "cell_type": "code",
   "execution_count": 29,
   "id": "dc757e4f-bb96-49a2-a336-6c8de0d8b8f4",
   "metadata": {},
   "outputs": [
    {
     "data": {
      "text/plain": [
       "'the'"
      ]
     },
     "execution_count": 29,
     "metadata": {},
     "output_type": "execute_result"
    }
   ],
   "source": [
    "reuters_word_index_series[1]"
   ]
  },
  {
   "cell_type": "code",
   "execution_count": 32,
   "id": "a3144314-3c76-401e-9be1-2cd3761794b8",
   "metadata": {},
   "outputs": [
    {
     "ename": "AttributeError",
     "evalue": "'list' object has no attribute 'replace'",
     "output_type": "error",
     "traceback": [
      "\u001b[1;31m---------------------------------------------------------------------------\u001b[0m",
      "\u001b[1;31mAttributeError\u001b[0m                            Traceback (most recent call last)",
      "Cell \u001b[1;32mIn[32], line 1\u001b[0m\n\u001b[1;32m----> 1\u001b[0m \u001b[43m[\u001b[49m\u001b[43mreuters_word_index_series\u001b[49m\u001b[43m[\u001b[49m\u001b[43mi\u001b[49m\u001b[43m]\u001b[49m\u001b[43m \u001b[49m\u001b[38;5;28;43;01mfor\u001b[39;49;00m\u001b[43m \u001b[49m\u001b[43mi\u001b[49m\u001b[43m \u001b[49m\u001b[38;5;129;43;01min\u001b[39;49;00m\u001b[43m \u001b[49m\u001b[43mx_train\u001b[49m\u001b[43m[\u001b[49m\u001b[38;5;241;43m0\u001b[39;49m\u001b[43m]\u001b[49m\u001b[43m]\u001b[49m\u001b[38;5;241;43m.\u001b[39;49m\u001b[43mreplace\u001b[49m()\n",
      "\u001b[1;31mAttributeError\u001b[0m: 'list' object has no attribute 'replace'"
     ]
    }
   ],
   "source": [
    "[reuters_word_index_series[i] for i in x_train[1]]"
   ]
  },
  {
   "cell_type": "code",
   "execution_count": 40,
   "id": "378e0076-33f1-42ff-ba35-50e49d94f4d3",
   "metadata": {},
   "outputs": [
    {
     "name": "stdout",
     "output_type": "stream",
     "text": [
      "the payable interests services option february international and for ltd dlrs new is a dollar in of currency in three of of option near month at record ago a of prices its in early ltd billion also is a only in going 26 3 of way mln option u prices its billion trade is for 2 11 of dollar option of from 250 vs produced prices its from directors vs a only 3 from brazil vs for 2 11 of option a dollar of with billion also is of and in third of subsidiary agriculture have only ltd of of said dlrs from is u agriculture a what but of option a dollar of with dlrs new is of and in ltd subsidiary of a price 54 development 3 only have 2 of ltd dlrs new is option february unemployment of its company said of a investor 45 of a companies us need sale and in of taking of we in offer spokesman mln of a investor 45 investment of on its for 2 11 and countries foreign vs continue from again vs of a in of when markets of on its for 2 11 3 from of vs a of 45 22 loss of 3 of markets of on pct dlrs\n"
     ]
    }
   ],
   "source": [
    "print(' '.join([reuters_word_index_series[i] for i in x_train[200]]))"
   ]
  },
  {
   "cell_type": "code",
   "execution_count": null,
   "id": "446203e5-6b08-4610-a40e-d5e9c1b4b8fe",
   "metadata": {},
   "outputs": [],
   "source": [
    "from tensorflow.keras.utils import to_categorical \n",
    "from tensorflow.keras.preprocessing import sequence \n",
    "from tensorflow.keras.models import Sequential\n",
    "from tensorflow.keras.layers import Dense, Embedding, LSTM\n",
    "\n",
    "x_train = sequence.pad_sequences(x_train, maxlen=100)\n",
    "x_test = sequence.pad_sequences(x_test, maxlen=100)\n",
    "y_train = to_categorical(y_train)\n",
    "y_test = to_categorical(y_test)\n",
    "\n",
    "model = Sequential() \n",
    "model.add(Embedding(1000,100))\n",
    "model.add(LSTM(100,activation='tanh'))\n",
    "model.add(Dense(46, activation='softmax'))\n",
    "\n",
    "model.compile(loss = 'categorical_crossentropy',\n",
    "              optimizer='adam',\n",
    "              metrics=['accuracy'])\n",
    "\n",
    "history = model.fit(x_train,y_train, batch_size=100, epochs=20,\n",
    "                    validation_data=(x_test,y_test))\n",
    "\n",
    "print(f'\\n test acc:{model.evaluate(x_test,y_test)[1]}')"
   ]
  }
 ],
 "metadata": {
  "kernelspec": {
   "display_name": "Python 3 (ipykernel)",
   "language": "python",
   "name": "python3"
  },
  "language_info": {
   "codemirror_mode": {
    "name": "ipython",
    "version": 3
   },
   "file_extension": ".py",
   "mimetype": "text/x-python",
   "name": "python",
   "nbconvert_exporter": "python",
   "pygments_lexer": "ipython3",
   "version": "3.11.1"
  }
 },
 "nbformat": 4,
 "nbformat_minor": 5
}
