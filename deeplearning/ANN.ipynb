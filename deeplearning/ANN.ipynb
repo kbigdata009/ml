{
 "cells": [
  {
   "cell_type": "markdown",
   "id": "32c20993-be9b-4782-aa07-4f79d0ccfae2",
   "metadata": {},
   "source": [
    "#### tf.keras.datasets.mnist.load_data\n",
    "e test data."
   ]
  },
  {
   "cell_type": "raw",
   "id": "95b303e5-b305-4eb3-a10c-762dd2c2866d",
   "metadata": {},
   "source": [
    "* Tuple of NumPy arrays: (x_train, y_train), (x_test, y_test).\n",
    "* x_train: uint8 NumPy array of grayscale image data with shapes (60000, 28, 28), containing the training data. Pixel values range from 0 to 255.\n",
    "* \n",
    "y_train: uint8 NumPy array of digit labels (integers in range 0-9) with shape (60000,) for the training da\n",
    "  a.* \n",
    "\n",
    "x_test: uint8 NumPy array of grayscale image data with shapes (10000, 28, 28), containing the test data. Pixel values range from 0 to 25* 5.\n",
    "\n",
    "y_test: uint8 NumPy array of digit labels (integers in range 0-9) with shape (10000,) for the test "
   ]
  },
  {
   "cell_type": "code",
   "execution_count": 38,
   "id": "1ec0888d-bf1d-4ab8-82a6-1eaf68918201",
   "metadata": {},
   "outputs": [],
   "source": [
    "from tensorflow.keras.datasets import mnist\n",
    "\n",
    "(x_train, y_train), (x_test, y_test) = mnist.load_data()"
   ]
  },
  {
   "cell_type": "code",
   "execution_count": 39,
   "id": "e1d461a1-2d9f-4662-ab6a-29af18ec4185",
   "metadata": {},
   "outputs": [
    {
     "name": "stdout",
     "output_type": "stream",
     "text": [
      "[[  0   0   0   0   0   0   0   0   0   0   0   0   0   0   0   0   0   0\n",
      "    0   0   0   0   0   0   0   0   0   0]\n",
      " [  0   0   0   0   0   0   0   0   0   0   0   0   0   0   0   0   0   0\n",
      "    0   0   0   0   0   0   0   0   0   0]\n",
      " [  0   0   0   0   0   0   0   0   0   0   0   0   0   0   0   0   0   0\n",
      "    0   0   0   0   0   0   0   0   0   0]\n",
      " [  0   0   0   0   0   0   0   0   0   0   0   0   0   0   0   0   0   0\n",
      "    0   0   0   0   0   0   0   0   0   0]\n",
      " [  0   0   0   0   0   0   0   0   0   0   0   0   0   0   0   0   0   0\n",
      "    0   0   0   0   0   0   0   0   0   0]\n",
      " [  0   0   0   0   0   0   0   0   0   0   0   0   3  18  18  18 126 136\n",
      "  175  26 166 255 247 127   0   0   0   0]\n",
      " [  0   0   0   0   0   0   0   0  30  36  94 154 170 253 253 253 253 253\n",
      "  225 172 253 242 195  64   0   0   0   0]\n",
      " [  0   0   0   0   0   0   0  49 238 253 253 253 253 253 253 253 253 251\n",
      "   93  82  82  56  39   0   0   0   0   0]\n",
      " [  0   0   0   0   0   0   0  18 219 253 253 253 253 253 198 182 247 241\n",
      "    0   0   0   0   0   0   0   0   0   0]\n",
      " [  0   0   0   0   0   0   0   0  80 156 107 253 253 205  11   0  43 154\n",
      "    0   0   0   0   0   0   0   0   0   0]\n",
      " [  0   0   0   0   0   0   0   0   0  14   1 154 253  90   0   0   0   0\n",
      "    0   0   0   0   0   0   0   0   0   0]\n",
      " [  0   0   0   0   0   0   0   0   0   0   0 139 253 190   2   0   0   0\n",
      "    0   0   0   0   0   0   0   0   0   0]\n",
      " [  0   0   0   0   0   0   0   0   0   0   0  11 190 253  70   0   0   0\n",
      "    0   0   0   0   0   0   0   0   0   0]\n",
      " [  0   0   0   0   0   0   0   0   0   0   0   0  35 241 225 160 108   1\n",
      "    0   0   0   0   0   0   0   0   0   0]\n",
      " [  0   0   0   0   0   0   0   0   0   0   0   0   0  81 240 253 253 119\n",
      "   25   0   0   0   0   0   0   0   0   0]\n",
      " [  0   0   0   0   0   0   0   0   0   0   0   0   0   0  45 186 253 253\n",
      "  150  27   0   0   0   0   0   0   0   0]\n",
      " [  0   0   0   0   0   0   0   0   0   0   0   0   0   0   0  16  93 252\n",
      "  253 187   0   0   0   0   0   0   0   0]\n",
      " [  0   0   0   0   0   0   0   0   0   0   0   0   0   0   0   0   0 249\n",
      "  253 249  64   0   0   0   0   0   0   0]\n",
      " [  0   0   0   0   0   0   0   0   0   0   0   0   0   0  46 130 183 253\n",
      "  253 207   2   0   0   0   0   0   0   0]\n",
      " [  0   0   0   0   0   0   0   0   0   0   0   0  39 148 229 253 253 253\n",
      "  250 182   0   0   0   0   0   0   0   0]\n",
      " [  0   0   0   0   0   0   0   0   0   0  24 114 221 253 253 253 253 201\n",
      "   78   0   0   0   0   0   0   0   0   0]\n",
      " [  0   0   0   0   0   0   0   0  23  66 213 253 253 253 253 198  81   2\n",
      "    0   0   0   0   0   0   0   0   0   0]\n",
      " [  0   0   0   0   0   0  18 171 219 253 253 253 253 195  80   9   0   0\n",
      "    0   0   0   0   0   0   0   0   0   0]\n",
      " [  0   0   0   0  55 172 226 253 253 253 253 244 133  11   0   0   0   0\n",
      "    0   0   0   0   0   0   0   0   0   0]\n",
      " [  0   0   0   0 136 253 253 253 212 135 132  16   0   0   0   0   0   0\n",
      "    0   0   0   0   0   0   0   0   0   0]\n",
      " [  0   0   0   0   0   0   0   0   0   0   0   0   0   0   0   0   0   0\n",
      "    0   0   0   0   0   0   0   0   0   0]\n",
      " [  0   0   0   0   0   0   0   0   0   0   0   0   0   0   0   0   0   0\n",
      "    0   0   0   0   0   0   0   0   0   0]\n",
      " [  0   0   0   0   0   0   0   0   0   0   0   0   0   0   0   0   0   0\n",
      "    0   0   0   0   0   0   0   0   0   0]] 5\n"
     ]
    }
   ],
   "source": [
    "print(x_train[0] , y_train[0])"
   ]
  },
  {
   "cell_type": "code",
   "execution_count": 40,
   "id": "34d55956-f830-4a50-b0a8-a7aa12c253a3",
   "metadata": {},
   "outputs": [
    {
     "data": {
      "text/plain": [
       "(28, 28)"
      ]
     },
     "execution_count": 40,
     "metadata": {},
     "output_type": "execute_result"
    }
   ],
   "source": [
    "x_train[0].shape"
   ]
  },
  {
   "cell_type": "code",
   "execution_count": 41,
   "id": "68e7be68-c2dc-4eff-ad33-0f30c86b8355",
   "metadata": {},
   "outputs": [
    {
     "data": {
      "text/plain": [
       "<matplotlib.image.AxesImage at 0x1cdb752cf10>"
      ]
     },
     "execution_count": 41,
     "metadata": {},
     "output_type": "execute_result"
    },
    {
     "data": {
      "image/png": "[encoded data removed]",
      "text/plain": [
       "<Figure size 640x480 with 1 Axes>"
      ]
     },
     "metadata": {},
     "output_type": "display_data"
    }
   ],
   "source": [
    "import matplotlib.pyplot as plt\n",
    "\n",
    "plt.imshow(x_train[0] , 'gray')"
   ]
  },
  {
   "cell_type": "code",
   "execution_count": 42,
   "id": "25084c8a-48ba-4987-8e46-485e2070afe6",
   "metadata": {},
   "outputs": [],
   "source": [
    "# 입력 이미지를 2차원에서 1차원 벡터로 변경한다.\n",
    "x_train = x_train.reshape(60000, 784) \n",
    "x_test = x_test.reshape(10000, 784)\n",
    "# 입력 이미지의 픽셀 값이 0.0에서 1.0 사이의 값이 되게 한다.\n",
    "x_train = x_train.astype('float32') \n",
    "x_test = x_test.astype('float32') \n",
    "x_train /= 255\n",
    "x_test /= 255"
   ]
  },
  {
   "cell_type": "code",
   "execution_count": 49,
   "id": "b5d4935c-3b37-429b-8ea8-eff3e4d8d9df",
   "metadata": {},
   "outputs": [],
   "source": [
    "batch_size = 128 # 가중치를 변경하기 전에 처리하는 샘플의 개수 \n",
    "num_classes = 10 # 출력 클래스의 개수 \n",
    "epochs = 100 # 에포크의 개수"
   ]
  },
  {
   "cell_type": "code",
   "execution_count": 44,
   "id": "6ee27336-c538-4df4-9d7e-ef357ab2bd5a",
   "metadata": {},
   "outputs": [
    {
     "name": "stdout",
     "output_type": "stream",
     "text": [
      "Model: \"sequential_4\"\n",
      "_________________________________________________________________\n",
      " Layer (type)                Output Shape              Param #   \n",
      "=================================================================\n",
      " dense_8 (Dense)             (None, 512)               401920    \n",
      "                                                                 \n",
      " dense_9 (Dense)             (None, 30)                15390     \n",
      "                                                                 \n",
      "=================================================================\n",
      "Total params: 417310 (1.59 MB)\n",
      "Trainable params: 417310 (1.59 MB)\n",
      "Non-trainable params: 0 (0.00 Byte)\n",
      "_________________________________________________________________\n"
     ]
    }
   ],
   "source": [
    "from tensorflow.keras.utils import to_categorical\n",
    "from tensorflow.keras.models import Sequential\n",
    "from tensorflow.keras.layers import Dense\n",
    "y_train = to_categorical(y_train, num_classes)\n",
    "y_test = to_categorical(y_test, num_classes)\n",
    "\n",
    "model= Sequential()\n",
    "model.add(Dense(512, activation = 'relu', input_shape=(784,)))\n",
    "model.add(Dense(num_classes, activation = 'softmax'))\n",
    "model.summary()"
   ]
  },
  {
   "cell_type": "code",
   "execution_count": 50,
   "id": "bc65fa39-7b25-45f0-a22a-511b469ca2cc",
   "metadata": {},
   "outputs": [
    {
     "name": "stdout",
     "output_type": "stream",
     "text": [
      "Epoch 1/100\n",
      "469/469 [==============================] - 4s 8ms/step - loss: 0.1459 - accuracy: 0.9595\n",
      "Epoch 2/100\n",
      "469/469 [==============================] - 4s 9ms/step - loss: 0.1439 - accuracy: 0.9600\n",
      "Epoch 3/100\n",
      "469/469 [==============================] - 4s 9ms/step - loss: 0.1419 - accuracy: 0.9610\n",
      "Epoch 4/100\n",
      "469/469 [==============================] - 4s 9ms/step - loss: 0.1399 - accuracy: 0.9613\n",
      "Epoch 5/100\n",
      "469/469 [==============================] - 4s 9ms/step - loss: 0.1379 - accuracy: 0.9621\n",
      "Epoch 6/100\n",
      "469/469 [==============================] - 5s 10ms/step - loss: 0.1361 - accuracy: 0.9627\n",
      "Epoch 7/100\n",
      "469/469 [==============================] - 5s 10ms/step - loss: 0.1341 - accuracy: 0.9632\n",
      "Epoch 8/100\n",
      "469/469 [==============================] - 5s 10ms/step - loss: 0.1324 - accuracy: 0.9635\n",
      "Epoch 9/100\n",
      "469/469 [==============================] - 5s 10ms/step - loss: 0.1307 - accuracy: 0.9642\n",
      "Epoch 10/100\n",
      "469/469 [==============================] - 5s 10ms/step - loss: 0.1289 - accuracy: 0.9647\n",
      "Epoch 11/100\n",
      "469/469 [==============================] - 5s 11ms/step - loss: 0.1272 - accuracy: 0.9652\n",
      "Epoch 12/100\n",
      "469/469 [==============================] - 6s 12ms/step - loss: 0.1257 - accuracy: 0.9657\n",
      "Epoch 13/100\n",
      "469/469 [==============================] - 6s 12ms/step - loss: 0.1240 - accuracy: 0.9662\n",
      "Epoch 14/100\n",
      "469/469 [==============================] - 6s 12ms/step - loss: 0.1225 - accuracy: 0.9666\n",
      "Epoch 15/100\n",
      "469/469 [==============================] - 6s 12ms/step - loss: 0.1211 - accuracy: 0.9669\n",
      "Epoch 16/100\n",
      "469/469 [==============================] - 6s 12ms/step - loss: 0.1195 - accuracy: 0.9677\n",
      "Epoch 17/100\n",
      "469/469 [==============================] - 6s 12ms/step - loss: 0.1181 - accuracy: 0.9678\n",
      "Epoch 18/100\n",
      "469/469 [==============================] - 6s 12ms/step - loss: 0.1166 - accuracy: 0.9685\n",
      "Epoch 19/100\n",
      "469/469 [==============================] - 6s 12ms/step - loss: 0.1152 - accuracy: 0.9689\n",
      "Epoch 20/100\n",
      "469/469 [==============================] - 6s 12ms/step - loss: 0.1139 - accuracy: 0.9690\n",
      "Epoch 21/100\n",
      "469/469 [==============================] - 6s 13ms/step - loss: 0.1125 - accuracy: 0.9697\n",
      "Epoch 22/100\n",
      "469/469 [==============================] - 6s 12ms/step - loss: 0.1113 - accuracy: 0.9699\n",
      "Epoch 23/100\n",
      "469/469 [==============================] - 6s 12ms/step - loss: 0.1100 - accuracy: 0.9700\n",
      "Epoch 24/100\n",
      "469/469 [==============================] - 6s 12ms/step - loss: 0.1086 - accuracy: 0.9706\n",
      "Epoch 25/100\n",
      "469/469 [==============================] - 6s 12ms/step - loss: 0.1075 - accuracy: 0.9709\n",
      "Epoch 26/100\n",
      "469/469 [==============================] - 6s 12ms/step - loss: 0.1063 - accuracy: 0.9715\n",
      "Epoch 27/100\n",
      "469/469 [==============================] - 6s 13ms/step - loss: 0.1051 - accuracy: 0.9716\n",
      "Epoch 28/100\n",
      "469/469 [==============================] - 6s 12ms/step - loss: 0.1040 - accuracy: 0.9721\n",
      "Epoch 29/100\n",
      "469/469 [==============================] - 6s 12ms/step - loss: 0.1028 - accuracy: 0.9723\n",
      "Epoch 30/100\n",
      "469/469 [==============================] - 6s 12ms/step - loss: 0.1018 - accuracy: 0.9722\n",
      "Epoch 31/100\n",
      "469/469 [==============================] - 6s 12ms/step - loss: 0.1006 - accuracy: 0.9728\n",
      "Epoch 32/100\n",
      "469/469 [==============================] - 6s 12ms/step - loss: 0.0995 - accuracy: 0.9732\n",
      "Epoch 33/100\n",
      "469/469 [==============================] - 6s 12ms/step - loss: 0.0985 - accuracy: 0.9735\n",
      "Epoch 34/100\n",
      "469/469 [==============================] - 6s 12ms/step - loss: 0.0975 - accuracy: 0.9739\n",
      "Epoch 35/100\n",
      "469/469 [==============================] - 6s 12ms/step - loss: 0.0965 - accuracy: 0.9740\n",
      "Epoch 36/100\n",
      "469/469 [==============================] - 5s 11ms/step - loss: 0.0954 - accuracy: 0.9747\n",
      "Epoch 37/100\n",
      "469/469 [==============================] - 6s 12ms/step - loss: 0.0944 - accuracy: 0.9748\n",
      "Epoch 38/100\n",
      "469/469 [==============================] - 6s 12ms/step - loss: 0.0935 - accuracy: 0.9750\n",
      "Epoch 39/100\n",
      "469/469 [==============================] - 6s 12ms/step - loss: 0.0926 - accuracy: 0.9751\n",
      "Epoch 40/100\n",
      "469/469 [==============================] - 6s 12ms/step - loss: 0.0917 - accuracy: 0.9757\n",
      "Epoch 41/100\n",
      "469/469 [==============================] - 6s 12ms/step - loss: 0.0907 - accuracy: 0.9762\n",
      "Epoch 42/100\n",
      "469/469 [==============================] - 6s 12ms/step - loss: 0.0899 - accuracy: 0.9761\n",
      "Epoch 43/100\n",
      "469/469 [==============================] - 5s 12ms/step - loss: 0.0890 - accuracy: 0.9764\n",
      "Epoch 44/100\n",
      "469/469 [==============================] - 6s 13ms/step - loss: 0.0881 - accuracy: 0.9770\n",
      "Epoch 45/100\n",
      "469/469 [==============================] - 6s 13ms/step - loss: 0.0872 - accuracy: 0.9770\n",
      "Epoch 46/100\n",
      "469/469 [==============================] - 6s 13ms/step - loss: 0.0864 - accuracy: 0.9773\n",
      "Epoch 47/100\n",
      "469/469 [==============================] - 6s 12ms/step - loss: 0.0856 - accuracy: 0.9775\n",
      "Epoch 48/100\n",
      "469/469 [==============================] - 6s 12ms/step - loss: 0.0848 - accuracy: 0.9780\n",
      "Epoch 49/100\n",
      "469/469 [==============================] - 6s 12ms/step - loss: 0.0841 - accuracy: 0.9782\n",
      "Epoch 50/100\n",
      "469/469 [==============================] - 5s 12ms/step - loss: 0.0832 - accuracy: 0.9785\n",
      "Epoch 51/100\n",
      "469/469 [==============================] - 6s 13ms/step - loss: 0.0825 - accuracy: 0.9785\n",
      "Epoch 52/100\n",
      "469/469 [==============================] - 7s 14ms/step - loss: 0.0817 - accuracy: 0.9786\n",
      "Epoch 53/100\n",
      "469/469 [==============================] - 7s 15ms/step - loss: 0.0810 - accuracy: 0.9786\n",
      "Epoch 54/100\n",
      "469/469 [==============================] - 6s 13ms/step - loss: 0.0802 - accuracy: 0.9791\n",
      "Epoch 55/100\n",
      "469/469 [==============================] - 6s 13ms/step - loss: 0.0795 - accuracy: 0.9793\n",
      "Epoch 56/100\n",
      "469/469 [==============================] - 6s 12ms/step - loss: 0.0788 - accuracy: 0.9798\n",
      "Epoch 57/100\n",
      "469/469 [==============================] - 6s 12ms/step - loss: 0.0780 - accuracy: 0.9797\n",
      "Epoch 58/100\n",
      "469/469 [==============================] - 6s 12ms/step - loss: 0.0774 - accuracy: 0.9801\n",
      "Epoch 59/100\n",
      "469/469 [==============================] - 6s 13ms/step - loss: 0.0767 - accuracy: 0.9803\n",
      "Epoch 60/100\n",
      "469/469 [==============================] - 6s 12ms/step - loss: 0.0761 - accuracy: 0.9805\n",
      "Epoch 61/100\n",
      "469/469 [==============================] - 6s 13ms/step - loss: 0.0754 - accuracy: 0.9806\n",
      "Epoch 62/100\n",
      "469/469 [==============================] - 6s 12ms/step - loss: 0.0747 - accuracy: 0.9809\n",
      "Epoch 63/100\n",
      "469/469 [==============================] - 6s 13ms/step - loss: 0.0741 - accuracy: 0.9811\n",
      "Epoch 64/100\n",
      "469/469 [==============================] - 6s 13ms/step - loss: 0.0734 - accuracy: 0.9813\n",
      "Epoch 65/100\n",
      "469/469 [==============================] - 6s 12ms/step - loss: 0.0728 - accuracy: 0.9815\n",
      "Epoch 66/100\n",
      "469/469 [==============================] - 6s 13ms/step - loss: 0.0723 - accuracy: 0.9816\n",
      "Epoch 67/100\n",
      "469/469 [==============================] - 6s 12ms/step - loss: 0.0716 - accuracy: 0.9818\n",
      "Epoch 68/100\n",
      "469/469 [==============================] - 6s 13ms/step - loss: 0.0710 - accuracy: 0.9821\n",
      "Epoch 69/100\n",
      "469/469 [==============================] - 6s 13ms/step - loss: 0.0705 - accuracy: 0.9822\n",
      "Epoch 70/100\n",
      "469/469 [==============================] - 5s 11ms/step - loss: 0.0699 - accuracy: 0.9823\n",
      "Epoch 71/100\n",
      "469/469 [==============================] - 5s 11ms/step - loss: 0.0693 - accuracy: 0.9824\n",
      "Epoch 72/100\n",
      "469/469 [==============================] - 5s 11ms/step - loss: 0.0688 - accuracy: 0.9827\n",
      "Epoch 73/100\n",
      "469/469 [==============================] - 5s 11ms/step - loss: 0.0682 - accuracy: 0.9829\n",
      "Epoch 74/100\n",
      "469/469 [==============================] - 5s 11ms/step - loss: 0.0676 - accuracy: 0.9827\n",
      "Epoch 75/100\n",
      "469/469 [==============================] - 5s 11ms/step - loss: 0.0671 - accuracy: 0.9832\n",
      "Epoch 76/100\n",
      "469/469 [==============================] - 5s 10ms/step - loss: 0.0665 - accuracy: 0.9832\n",
      "Epoch 77/100\n",
      "469/469 [==============================] - 5s 11ms/step - loss: 0.0660 - accuracy: 0.9834\n",
      "Epoch 78/100\n",
      "469/469 [==============================] - 5s 11ms/step - loss: 0.0655 - accuracy: 0.9835\n",
      "Epoch 79/100\n",
      "469/469 [==============================] - 5s 11ms/step - loss: 0.0650 - accuracy: 0.9839\n",
      "Epoch 80/100\n",
      "469/469 [==============================] - 5s 11ms/step - loss: 0.0645 - accuracy: 0.9836\n",
      "Epoch 81/100\n",
      "469/469 [==============================] - 5s 11ms/step - loss: 0.0640 - accuracy: 0.9841\n",
      "Epoch 82/100\n",
      "469/469 [==============================] - 5s 11ms/step - loss: 0.0635 - accuracy: 0.9841\n",
      "Epoch 83/100\n",
      "469/469 [==============================] - 5s 11ms/step - loss: 0.0630 - accuracy: 0.9843\n",
      "Epoch 84/100\n",
      "469/469 [==============================] - 5s 11ms/step - loss: 0.0626 - accuracy: 0.9846\n",
      "Epoch 85/100\n",
      "469/469 [==============================] - 5s 11ms/step - loss: 0.0621 - accuracy: 0.9846\n",
      "Epoch 86/100\n",
      "469/469 [==============================] - 5s 11ms/step - loss: 0.0616 - accuracy: 0.9846\n",
      "Epoch 87/100\n",
      "469/469 [==============================] - 5s 11ms/step - loss: 0.0611 - accuracy: 0.9847\n",
      "Epoch 88/100\n",
      "469/469 [==============================] - 5s 11ms/step - loss: 0.0607 - accuracy: 0.9849\n",
      "Epoch 89/100\n",
      "469/469 [==============================] - 5s 11ms/step - loss: 0.0602 - accuracy: 0.9851\n",
      "Epoch 90/100\n",
      "469/469 [==============================] - 5s 11ms/step - loss: 0.0598 - accuracy: 0.9852\n",
      "Epoch 91/100\n",
      "469/469 [==============================] - 5s 11ms/step - loss: 0.0594 - accuracy: 0.9853\n",
      "Epoch 92/100\n",
      "469/469 [==============================] - 5s 11ms/step - loss: 0.0589 - accuracy: 0.9854\n",
      "Epoch 93/100\n",
      "469/469 [==============================] - 5s 11ms/step - loss: 0.0585 - accuracy: 0.9855\n",
      "Epoch 94/100\n",
      "469/469 [==============================] - 5s 11ms/step - loss: 0.0581 - accuracy: 0.9858\n",
      "Epoch 95/100\n",
      "469/469 [==============================] - 5s 11ms/step - loss: 0.0576 - accuracy: 0.9859\n",
      "Epoch 96/100\n",
      "469/469 [==============================] - 5s 11ms/step - loss: 0.0572 - accuracy: 0.9859\n",
      "Epoch 97/100\n",
      "469/469 [==============================] - 5s 11ms/step - loss: 0.0568 - accuracy: 0.9860\n",
      "Epoch 98/100\n",
      "469/469 [==============================] - 5s 11ms/step - loss: 0.0564 - accuracy: 0.9860\n",
      "Epoch 99/100\n",
      "469/469 [==============================] - 5s 11ms/step - loss: 0.0561 - accuracy: 0.9862\n",
      "Epoch 100/100\n",
      "469/469 [==============================] - 5s 11ms/step - loss: 0.0556 - accuracy: 0.9863\n",
      "테스트 손실값: 0.07955602556467056\n",
      "테스트 정확도: 0.9768000245094299\n"
     ]
    }
   ],
   "source": [
    "from tensorflow.keras.optimizers import SGD\n",
    "# 모델 컴파일\n",
    "model.compile(loss='categorical_crossentropy', optimizer=SGD(), metrics=['accuracy'])\n",
    "\n",
    "# 모델 학습\n",
    "history = model.fit(x_train, y_train, batch_size=batch_size, epochs=epochs)\n",
    "\n",
    "# 모델 평가\n",
    "score = model.evaluate(x_test, y_test, verbose=0)\n",
    "print(f'테스트 손실값: {score[0]}')\n",
    "print(f'테스트 정확도: {score[1]}')"
   ]
  },
  {
   "cell_type": "code",
   "execution_count": null,
   "id": "3949c2a5-0002-44db-9c95-5314c0ed87bd",
   "metadata": {},
   "outputs": [],
   "source": [
    "history.history.keys()"
   ]
  },
  {
   "cell_type": "code",
   "execution_count": null,
   "id": "22359f29-7c22-4cd5-a2a0-d88f848382d2",
   "metadata": {},
   "outputs": [],
   "source": [
    "def vis(history,name) :\n",
    "    plt.title(f\"{name.upper()}\")\n",
    "    plt.xlabel('epochs')\n",
    "    plt.ylabel(f\"{name.lower()}\")\n",
    "    value = history.history.get(name)\n",
    "    val_value = history.history.get(f\"val_{name}\",None)\n",
    "    epochs = range(1, len(value)+1)\n",
    "    plt.plot(epochs, value, 'b-', label=f'training {name}')\n",
    "    if val_value is not None :\n",
    "        plt.plot(epochs, val_value, 'r:', label=f'validation {name}')\n",
    "    plt.legend(loc='upper center', bbox_to_anchor=(0.05, 1.2) , fontsize=10 , ncol=1)\n",
    "    \n",
    "def plot_history(history) :\n",
    "    key_value = list(set([i.split(\"val_\")[-1] for i in list(history.history.keys())]))\n",
    "    plt.figure(figsize=(12, 4))\n",
    "    for idx , key in enumerate(key_value) :\n",
    "        plt.subplot(1, len(key_value), idx+1)\n",
    "        vis(history, key)\n",
    "    plt.tight_layout()\n",
    "    plt.show()"
   ]
  },
  {
   "cell_type": "code",
   "execution_count": 51,
   "id": "1a2ca3c4-673b-450f-ac7f-f5b826aa3333",
   "metadata": {},
   "outputs": [
    {
     "data": {
      "image/png": "[encoded data removed]",
      "text/plain": [
       "<Figure size 1200x400 with 2 Axes>"
      ]
     },
     "metadata": {},
     "output_type": "display_data"
    }
   ],
   "source": [
    "plot_history(history)"
   ]
  },
  {
   "cell_type": "code",
   "execution_count": null,
   "id": "96ad3e4b-0f13-4eb3-813e-a0177936d256",
   "metadata": {},
   "outputs": [],
   "source": []
  }
 ],
 "metadata": {
  "kernelspec": {
   "display_name": "Python 3 (ipykernel)",
   "language": "python",
   "name": "python3"
  },
  "language_info": {
   "codemirror_mode": {
    "name": "ipython",
    "version": 3
   },
   "file_extension": ".py",
   "mimetype": "text/x-python",
   "name": "python",
   "nbconvert_exporter": "python",
   "pygments_lexer": "ipython3",
   "version": "3.11.1"
  }
 },
 "nbformat": 4,
 "nbformat_minor": 5
}
