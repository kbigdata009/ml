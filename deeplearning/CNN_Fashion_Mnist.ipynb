{
 "cells": [
  {
   "cell_type": "code",
   "execution_count": 2,
   "id": "89f7a57e-f42e-40dd-8770-496fdf2eb8d9",
   "metadata": {},
   "outputs": [
    {
     "name": "stdout",
     "output_type": "stream",
     "text": [
      "WARNING:tensorflow:From C:\\Users\\user\\AppData\\Local\\Programs\\Python\\Python311\\Lib\\site-packages\\keras\\src\\losses.py:2976: The name tf.losses.sparse_softmax_cross_entropy is deprecated. Please use tf.compat.v1.losses.sparse_softmax_cross_entropy instead.\n",
      "\n",
      "[name: \"/device:CPU:0\"\n",
      "device_type: \"CPU\"\n",
      "memory_limit: 268435456\n",
      "locality {\n",
      "}\n",
      "incarnation: 908306260386832492\n",
      "xla_global_id: -1\n",
      "]\n"
     ]
    }
   ],
   "source": [
    "import tensorflow as tf \n",
    "from tensorflow.python.client import device_lib\n",
    "\n",
    "print(device_lib.list_local_devices() )\n"
   ]
  },
  {
   "cell_type": "code",
   "execution_count": 3,
   "id": "ec22da66-425f-4418-9ac3-3207e82f523c",
   "metadata": {},
   "outputs": [],
   "source": [
    "import os\n",
    "os.environ[\"CUDA_VISIBLE_DEVICES\"] = \"0\"\n"
   ]
  },
  {
   "cell_type": "code",
   "execution_count": 5,
   "id": "0d65e039-2dcd-4fe5-9fe9-93ed9d174d5d",
   "metadata": {},
   "outputs": [
    {
     "name": "stdout",
     "output_type": "stream",
     "text": [
      "Downloading data from https://storage.googleapis.com/tensorflow/tf-keras-datasets/train-labels-idx1-ubyte.gz\n",
      "29515/29515 [==============================] - 0s 0us/step\n",
      "Downloading data from https://storage.googleapis.com/tensorflow/tf-keras-datasets/train-images-idx3-ubyte.gz\n",
      "26421880/26421880 [==============================] - 3s 0us/step\n",
      "Downloading data from https://storage.googleapis.com/tensorflow/tf-keras-datasets/t10k-labels-idx1-ubyte.gz\n",
      "5148/5148 [==============================] - 0s 0s/step\n",
      "Downloading data from https://storage.googleapis.com/tensorflow/tf-keras-datasets/t10k-images-idx3-ubyte.gz\n",
      "4422102/4422102 [==============================] - 0s 0us/step\n"
     ]
    }
   ],
   "source": [
    "from tensorflow.keras.datasets.fashion_mnist import load_data\n",
    "\n",
    "(x_train, y_train), (x_test, y_test) = load_data()"
   ]
  },
  {
   "cell_type": "code",
   "execution_count": 6,
   "id": "f0dad5dd-eac2-4632-8562-268e3f9ff538",
   "metadata": {},
   "outputs": [
    {
     "name": "stdout",
     "output_type": "stream",
     "text": [
      "0\t0\t0\t0\t0\t0\t0\t0\t0\t0\t0\t0\t0\t0\t0\t0\t0\t0\t0\t0\t0\t0\t0\t0\t0\t0\t0\t0\t\n",
      "0\t0\t0\t0\t0\t0\t0\t0\t0\t0\t0\t0\t0\t0\t0\t0\t0\t0\t0\t0\t0\t0\t0\t0\t0\t0\t0\t0\t\n",
      "0\t0\t0\t0\t0\t0\t0\t0\t0\t0\t0\t0\t0\t0\t0\t0\t0\t0\t0\t0\t0\t0\t0\t0\t0\t0\t0\t0\t\n",
      "0\t0\t0\t0\t0\t0\t0\t0\t0\t0\t0\t0\t1\t0\t0\t13\t73\t0\t0\t1\t4\t0\t0\t0\t0\t1\t1\t0\t\n",
      "0\t0\t0\t0\t0\t0\t0\t0\t0\t0\t0\t0\t3\t0\t36\t136\t127\t62\t54\t0\t0\t0\t1\t3\t4\t0\t0\t3\t\n",
      "0\t0\t0\t0\t0\t0\t0\t0\t0\t0\t0\t0\t6\t0\t102\t204\t176\t134\t144\t123\t23\t0\t0\t0\t0\t12\t10\t0\t\n",
      "0\t0\t0\t0\t0\t0\t0\t0\t0\t0\t0\t0\t0\t0\t155\t236\t207\t178\t107\t156\t161\t109\t64\t23\t77\t130\t72\t15\t\n",
      "0\t0\t0\t0\t0\t0\t0\t0\t0\t0\t0\t1\t0\t69\t207\t223\t218\t216\t216\t163\t127\t121\t122\t146\t141\t88\t172\t66\t\n",
      "0\t0\t0\t0\t0\t0\t0\t0\t0\t1\t1\t1\t0\t200\t232\t232\t233\t229\t223\t223\t215\t213\t164\t127\t123\t196\t229\t0\t\n",
      "0\t0\t0\t0\t0\t0\t0\t0\t0\t0\t0\t0\t0\t183\t225\t216\t223\t228\t235\t227\t224\t222\t224\t221\t223\t245\t173\t0\t\n",
      "0\t0\t0\t0\t0\t0\t0\t0\t0\t0\t0\t0\t0\t193\t228\t218\t213\t198\t180\t212\t210\t211\t213\t223\t220\t243\t202\t0\t\n",
      "0\t0\t0\t0\t0\t0\t0\t0\t0\t1\t3\t0\t12\t219\t220\t212\t218\t192\t169\t227\t208\t218\t224\t212\t226\t197\t209\t52\t\n",
      "0\t0\t0\t0\t0\t0\t0\t0\t0\t0\t6\t0\t99\t244\t222\t220\t218\t203\t198\t221\t215\t213\t222\t220\t245\t119\t167\t56\t\n",
      "0\t0\t0\t0\t0\t0\t0\t0\t0\t4\t0\t0\t55\t236\t228\t230\t228\t240\t232\t213\t218\t223\t234\t217\t217\t209\t92\t0\t\n",
      "0\t0\t1\t4\t6\t7\t2\t0\t0\t0\t0\t0\t237\t226\t217\t223\t222\t219\t222\t221\t216\t223\t229\t215\t218\t255\t77\t0\t\n",
      "0\t3\t0\t0\t0\t0\t0\t0\t0\t62\t145\t204\t228\t207\t213\t221\t218\t208\t211\t218\t224\t223\t219\t215\t224\t244\t159\t0\t\n",
      "0\t0\t0\t0\t18\t44\t82\t107\t189\t228\t220\t222\t217\t226\t200\t205\t211\t230\t224\t234\t176\t188\t250\t248\t233\t238\t215\t0\t\n",
      "0\t57\t187\t208\t224\t221\t224\t208\t204\t214\t208\t209\t200\t159\t245\t193\t206\t223\t255\t255\t221\t234\t221\t211\t220\t232\t246\t0\t\n",
      "3\t202\t228\t224\t221\t211\t211\t214\t205\t205\t205\t220\t240\t80\t150\t255\t229\t221\t188\t154\t191\t210\t204\t209\t222\t228\t225\t0\t\n",
      "98\t233\t198\t210\t222\t229\t229\t234\t249\t220\t194\t215\t217\t241\t65\t73\t106\t117\t168\t219\t221\t215\t217\t223\t223\t224\t229\t29\t\n",
      "75\t204\t212\t204\t193\t205\t211\t225\t216\t185\t197\t206\t198\t213\t240\t195\t227\t245\t239\t223\t218\t212\t209\t222\t220\t221\t230\t67\t\n",
      "48\t203\t183\t194\t213\t197\t185\t190\t194\t192\t202\t214\t219\t221\t220\t236\t225\t216\t199\t206\t186\t181\t177\t172\t181\t205\t206\t115\t\n",
      "0\t122\t219\t193\t179\t171\t183\t196\t204\t210\t213\t207\t211\t210\t200\t196\t194\t191\t195\t191\t198\t192\t176\t156\t167\t177\t210\t92\t\n",
      "0\t0\t74\t189\t212\t191\t175\t172\t175\t181\t185\t188\t189\t188\t193\t198\t204\t209\t210\t210\t211\t188\t188\t194\t192\t216\t170\t0\t\n",
      "2\t0\t0\t0\t66\t200\t222\t237\t239\t242\t246\t243\t244\t221\t220\t193\t191\t179\t182\t182\t181\t176\t166\t168\t99\t58\t0\t0\t\n",
      "0\t0\t0\t0\t0\t0\t0\t40\t61\t44\t72\t41\t35\t0\t0\t0\t0\t0\t0\t0\t0\t0\t0\t0\t0\t0\t0\t0\t\n",
      "0\t0\t0\t0\t0\t0\t0\t0\t0\t0\t0\t0\t0\t0\t0\t0\t0\t0\t0\t0\t0\t0\t0\t0\t0\t0\t0\t0\t\n",
      "0\t0\t0\t0\t0\t0\t0\t0\t0\t0\t0\t0\t0\t0\t0\t0\t0\t0\t0\t0\t0\t0\t0\t0\t0\t0\t0\t0\t\n"
     ]
    }
   ],
   "source": [
    "import sys\n",
    "\n",
    "for x in x_train[0]:\n",
    "    for i in x:\n",
    "        sys.stdout.write('%d\\t'%i)\n",
    "    sys.stdout.write('\\n')"
   ]
  },
  {
   "cell_type": "code",
   "execution_count": 7,
   "id": "dc63c5d3-baef-450b-93f9-a00dbe91993b",
   "metadata": {},
   "outputs": [
    {
     "data": {
      "image/png": "[encoded data removed]",
      "text/plain": [
       "<Figure size 640x480 with 1 Axes>"
      ]
     },
     "metadata": {},
     "output_type": "display_data"
    }
   ],
   "source": [
    "import matplotlib.pyplot as plt \n",
    "plt.imshow(x_train[0], cmap='Greys')\n",
    "plt.show()"
   ]
  },
  {
   "cell_type": "code",
   "execution_count": 8,
   "id": "a4768ef2-e89c-4102-bab9-da465230da3f",
   "metadata": {},
   "outputs": [],
   "source": [
    "# Load the TensorBoard notebook extension\n",
    "%load_ext tensorboard"
   ]
  },
  {
   "cell_type": "code",
   "execution_count": 11,
   "id": "26950402-ac81-42da-8d04-b0603697a81c",
   "metadata": {},
   "outputs": [],
   "source": [
    "import tensorflow as tf\n",
    "import datetime"
   ]
  },
  {
   "cell_type": "code",
   "execution_count": 13,
   "id": "f416a60b-26f5-4f3e-b6f6-23b026b0a4fe",
   "metadata": {},
   "outputs": [],
   "source": [
    "def create_model():\n",
    "  return tf.keras.models.Sequential([\n",
    "    tf.keras.layers.Flatten(input_shape=(28, 28)),\n",
    "    tf.keras.layers.Dense(128, activation='relu'),\n",
    "    tf.keras.layers.Dense(10, activation='softmax')\n",
    "  ])"
   ]
  },
  {
   "cell_type": "code",
   "execution_count": 14,
   "id": "9bf0ecb8-f9e6-469b-b78d-56422e820394",
   "metadata": {},
   "outputs": [
    {
     "name": "stdout",
     "output_type": "stream",
     "text": [
      "WARNING:tensorflow:From C:\\Users\\user\\AppData\\Local\\Programs\\Python\\Python311\\Lib\\site-packages\\keras\\src\\backend.py:873: The name tf.get_default_graph is deprecated. Please use tf.compat.v1.get_default_graph instead.\n",
      "\n",
      "WARNING:tensorflow:From C:\\Users\\user\\AppData\\Local\\Programs\\Python\\Python311\\Lib\\site-packages\\keras\\src\\optimizers\\__init__.py:309: The name tf.train.Optimizer is deprecated. Please use tf.compat.v1.train.Optimizer instead.\n",
      "\n",
      "Epoch 1/5\n",
      "WARNING:tensorflow:From C:\\Users\\user\\AppData\\Local\\Programs\\Python\\Python311\\Lib\\site-packages\\keras\\src\\utils\\tf_utils.py:492: The name tf.ragged.RaggedTensorValue is deprecated. Please use tf.compat.v1.ragged.RaggedTensorValue instead.\n",
      "\n",
      "WARNING:tensorflow:From C:\\Users\\user\\AppData\\Local\\Programs\\Python\\Python311\\Lib\\site-packages\\keras\\src\\engine\\base_layer_utils.py:384: The name tf.executing_eagerly_outside_functions is deprecated. Please use tf.compat.v1.executing_eagerly_outside_functions instead.\n",
      "\n",
      "1875/1875 [==============================] - 16s 8ms/step - loss: 3.8496 - accuracy: 0.6738 - val_loss: 0.8266 - val_accuracy: 0.6992\n",
      "Epoch 2/5\n",
      "1875/1875 [==============================] - 13s 7ms/step - loss: 0.7338 - accuracy: 0.7263 - val_loss: 0.7143 - val_accuracy: 0.7608\n",
      "Epoch 3/5\n",
      "1875/1875 [==============================] - 14s 7ms/step - loss: 0.6340 - accuracy: 0.7710 - val_loss: 0.5947 - val_accuracy: 0.8040\n",
      "Epoch 4/5\n",
      "1875/1875 [==============================] - 13s 7ms/step - loss: 0.5635 - accuracy: 0.8080 - val_loss: 0.6774 - val_accuracy: 0.7898\n",
      "Epoch 5/5\n",
      "1875/1875 [==============================] - 8s 4ms/step - loss: 0.5264 - accuracy: 0.8184 - val_loss: 0.5980 - val_accuracy: 0.8079\n"
     ]
    },
    {
     "data": {
      "text/plain": [
       "<keras.src.callbacks.History at 0x21a38d31b90>"
      ]
     },
     "execution_count": 14,
     "metadata": {},
     "output_type": "execute_result"
    }
   ],
   "source": [
    "model = create_model()\n",
    "model.compile(optimizer='adam',\n",
    "              loss='sparse_categorical_crossentropy',\n",
    "              metrics=['accuracy'])\n",
    "\n",
    "log_dir = \"logs/fit/\" + datetime.datetime.now().strftime(\"%Y%m%d-%H%M%S\")\n",
    "tensorboard_callback = tf.keras.callbacks.TensorBoard(log_dir=log_dir, histogram_freq=1)\n",
    "\n",
    "model.fit(x=x_train, \n",
    "          y=y_train, \n",
    "          epochs=5, \n",
    "          validation_data=(x_test, y_test), \n",
    "          callbacks=[tensorboard_callback])"
   ]
  },
  {
   "cell_type": "code",
   "execution_count": 15,
   "id": "2c8f68d4-b29c-42df-bd84-76d2308eea0b",
   "metadata": {},
   "outputs": [
    {
     "data": {
      "text/html": [
       "\n",
       "      <iframe id=\"tensorboard-frame-1d6a925ff99f6068\" width=\"100%\" height=\"800\" frameborder=\"0\">\n",
       "      </iframe>\n",
       "      <script>\n",
       "        (function() {\n",
       "          const frame = document.getElementById(\"tensorboard-frame-1d6a925ff99f6068\");\n",
       "          const url = new URL(\"/\", window.location);\n",
       "          const port = 6006;\n",
       "          if (port) {\n",
       "            url.port = port;\n",
       "          }\n",
       "          frame.src = url;\n",
       "        })();\n",
       "      </script>\n",
       "    "
      ],
      "text/plain": [
       "<IPython.core.display.HTML object>"
      ]
     },
     "metadata": {},
     "output_type": "display_data"
    }
   ],
   "source": [
    "%tensorboard --logdir logs/fit"
   ]
  },
  {
   "cell_type": "code",
   "execution_count": 20,
   "id": "5713e476-db93-4998-a8f4-bad8b9378436",
   "metadata": {},
   "outputs": [],
   "source": [
    "from tensorflow.keras.models import Sequential\n",
    "from tensorflow.keras.layers import Dense, Dropout, Flatten, Conv2D, MaxPooling2D\n",
    "from tensorflow.keras.callbacks import ModelCheckpoint, EarlyStopping\n",
    "\n",
    "import os\n",
    "import numpy as np\n",
    "import sys\n",
    "import tensorflow as tf\n",
    "import matplotlib.pyplot as plt\n",
    "\n",
    "# x_train = x_train /255\n",
    "# y_train = y_train /255\n",
    "\n",
    "# model = Sequential()\n",
    "# model.add(Flatten(input_shape=(28,28)))\n",
    "# model.add(Dense(128, activation='relu' ))\n",
    "# model.add(Dense(10, activation='softmax'))\n",
    "\n",
    "\n",
    "# model.compile(loss='sparse_categorical_crossentropy', optimizer= 'adam', metrics = ['accuracy'])\n",
    "# model.fit(x_train, y_train, epochs=5)"
   ]
  },
  {
   "cell_type": "code",
   "execution_count": 16,
   "id": "f9fdeb87-848e-433c-9c73-94499565c2d8",
   "metadata": {},
   "outputs": [],
   "source": [
    "from tensorflow.keras.datasets.fashion_mnist import load_data\n",
    "\n",
    "(train_images, train_labels), (x_test_images, y_test_labels) = load_data()"
   ]
  },
  {
   "cell_type": "code",
   "execution_count": 18,
   "id": "07474ad2-caac-499d-a94c-b057a774d711",
   "metadata": {},
   "outputs": [],
   "source": [
    "def create_cnn_model():\n",
    "  return tf.keras.models.Sequential([\n",
    "    tf.keras.layers.Conv2D(32, kernel_size=(3,3) , activation='relu', input_shape= (28,28,1)),\n",
    "    tf.keras.layers.MaxPooling2D((2,2)), \n",
    "    tf.keras.layers.Conv2D(64, activation='relu'),\n",
    "    tf.keras.layers.MaxPooling2D((2,2)),\n",
    "    tf.keras.layers.Conv2D(64, activation='relu'),\n",
    "    tf.keras.layers.Flatten(),\n",
    "    tf.keras.layers.Dense(128, activation='relu'),\n",
    "    tf.keras.layers.Dense(10, activation='softmax')\n",
    "  ])"
   ]
  },
  {
   "cell_type": "code",
   "execution_count": 19,
   "id": "77505211-9c0d-4f24-bda2-236cf63066a6",
   "metadata": {},
   "outputs": [
    {
     "name": "stdout",
     "output_type": "stream",
     "text": [
      "Epoch 1/5\n",
      "1875/1875 [==============================] - 14s 7ms/step - loss: 3.0073 - accuracy: 0.6954 - val_loss: 0.7533 - val_accuracy: 0.7280\n",
      "Epoch 2/5\n",
      "1875/1875 [==============================] - 12s 7ms/step - loss: 0.6600 - accuracy: 0.7790 - val_loss: 0.6258 - val_accuracy: 0.7932\n",
      "Epoch 3/5\n",
      "1875/1875 [==============================] - 15s 8ms/step - loss: 0.5567 - accuracy: 0.8115 - val_loss: 0.7154 - val_accuracy: 0.7766\n",
      "Epoch 4/5\n",
      "1875/1875 [==============================] - 12s 6ms/step - loss: 0.5331 - accuracy: 0.8197 - val_loss: 0.5393 - val_accuracy: 0.8254\n",
      "Epoch 5/5\n",
      "1875/1875 [==============================] - 13s 7ms/step - loss: 0.5086 - accuracy: 0.8280 - val_loss: 0.6338 - val_accuracy: 0.8033\n"
     ]
    },
    {
     "data": {
      "text/plain": [
       "<keras.src.callbacks.History at 0x21a3e638fd0>"
      ]
     },
     "execution_count": 19,
     "metadata": {},
     "output_type": "execute_result"
    }
   ],
   "source": [
    "model = create_model()\n",
    "model.compile(optimizer='adam',\n",
    "              loss='sparse_categorical_crossentropy',\n",
    "              metrics=['accuracy'])\n",
    "\n",
    "log_dir = \"logs/fit_1/\" + datetime.datetime.now().strftime(\"%Y%m%d-%H%M%S\")\n",
    "tensorboard_callback = tf.keras.callbacks.TensorBoard(log_dir=log_dir, histogram_freq=1)\n",
    "\n",
    "model.fit(x=x_train, \n",
    "          y=y_train, \n",
    "          epochs=5, \n",
    "          validation_data=(x_test, y_test), \n",
    "          callbacks=[tensorboard_callback])"
   ]
  },
  {
   "cell_type": "code",
   "execution_count": 24,
   "id": "c2786dc1-f94e-4f38-9bb8-50503c87ccc6",
   "metadata": {},
   "outputs": [
    {
     "data": {
      "text/plain": [
       "Reusing TensorBoard on port 6006 (pid 14480), started 0:17:13 ago. (Use '!kill 14480' to kill it.)"
      ]
     },
     "metadata": {},
     "output_type": "display_data"
    },
    {
     "data": {
      "text/html": [
       "\n",
       "      <iframe id=\"tensorboard-frame-b8a061f8a7929c50\" width=\"100%\" height=\"800\" frameborder=\"0\">\n",
       "      </iframe>\n",
       "      <script>\n",
       "        (function() {\n",
       "          const frame = document.getElementById(\"tensorboard-frame-b8a061f8a7929c50\");\n",
       "          const url = new URL(\"/\", window.location);\n",
       "          const port = 6006;\n",
       "          if (port) {\n",
       "            url.port = port;\n",
       "          }\n",
       "          frame.src = url;\n",
       "        })();\n",
       "      </script>\n",
       "    "
      ],
      "text/plain": [
       "<IPython.core.display.HTML object>"
      ]
     },
     "metadata": {},
     "output_type": "display_data"
    }
   ],
   "source": [
    "%tensorboard --logdir logs/fit"
   ]
  },
  {
   "cell_type": "code",
   "execution_count": 26,
   "id": "e565a233-5058-46ae-9d78-163974896121",
   "metadata": {},
   "outputs": [
    {
     "name": "stdout",
     "output_type": "stream",
     "text": [
      "Epoch 1/5\n",
      "1875/1875 [==============================] - 64s 33ms/step - loss: 0.5371 - accuracy: 0.8246 - val_loss: 0.3787 - val_accuracy: 0.8633\n",
      "Epoch 2/5\n",
      "1875/1875 [==============================] - 31s 17ms/step - loss: 0.3429 - accuracy: 0.8751 - val_loss: 0.3311 - val_accuracy: 0.8776\n",
      "Epoch 3/5\n",
      "1875/1875 [==============================] - 26s 14ms/step - loss: 0.3064 - accuracy: 0.8872 - val_loss: 0.3312 - val_accuracy: 0.8786\n",
      "Epoch 4/5\n",
      "1875/1875 [==============================] - 26s 14ms/step - loss: 0.2820 - accuracy: 0.8943 - val_loss: 0.3093 - val_accuracy: 0.8880\n",
      "Epoch 5/5\n",
      "1875/1875 [==============================] - 27s 15ms/step - loss: 0.2620 - accuracy: 0.9018 - val_loss: 0.3229 - val_accuracy: 0.8814\n"
     ]
    },
    {
     "data": {
      "text/plain": [
       "<keras.src.callbacks.History at 0x21a3b641d10>"
      ]
     },
     "execution_count": 26,
     "metadata": {},
     "output_type": "execute_result"
    }
   ],
   "source": [
    "model = Sequential()\n",
    "model.add(Conv2D(32, kernel_size=(3,3) , activation='relu', input_shape= (28,28,1)))\n",
    "model.add(MaxPooling2D((2,2)))\n",
    "model.add(Conv2D(64, kernel_size=(3,3) ,activation='relu'))\n",
    "model.add(MaxPooling2D((2,2)))\n",
    "model.add(Conv2D(64, kernel_size=(3,3) ,activation='relu'))\n",
    "model.add(Flatten()) \n",
    "model.add(Dense(128, activation='relu'))\n",
    "model.add(Dense(10, activation='softmax'))\n",
    "model.compile(optimizer='adam',\n",
    "              loss='sparse_categorical_crossentropy',\n",
    "              metrics=['accuracy'])\n",
    "\n",
    "log_dir = \"logs/fit_1/\" + datetime.datetime.now().strftime(\"%Y%m%d-%H%M%S\")\n",
    "tensorboard_callback = tf.keras.callbacks.TensorBoard(log_dir=log_dir, histogram_freq=1)\n",
    "\n",
    "model.fit(x=x_train, \n",
    "          y=y_train, \n",
    "          epochs=5, \n",
    "          validation_data=(x_test, y_test), \n",
    "          callbacks=[tensorboard_callback])"
   ]
  },
  {
   "cell_type": "code",
   "execution_count": null,
   "id": "790f6d7a-b7b3-4103-b11f-c64a9c13afc3",
   "metadata": {},
   "outputs": [],
   "source": []
  }
 ],
 "metadata": {
  "kernelspec": {
   "display_name": "Python 3 (ipykernel)",
   "language": "python",
   "name": "python3"
  },
  "language_info": {
   "codemirror_mode": {
    "name": "ipython",
    "version": 3
   },
   "file_extension": ".py",
   "mimetype": "text/x-python",
   "name": "python",
   "nbconvert_exporter": "python",
   "pygments_lexer": "ipython3",
   "version": "3.11.1"
  }
 },
 "nbformat": 4,
 "nbformat_minor": 5
}
