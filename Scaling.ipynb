{
 "cells": [
  {
   "cell_type": "markdown",
   "id": "979f7ad6-310b-4e7e-8e2e-e5f7f0783550",
   "metadata": {},
   "source": [
    "#### sklearn.preprocessing.StandardScaler\n",
    "* class sklearn.preprocessing.StandardScaler(*, copy=True, with_mean=True, with_std=True)"
   ]
  },
  {
   "cell_type": "code",
   "execution_count": 1,
   "id": "10855b54-b49e-40c8-b550-d87174b7278f",
   "metadata": {},
   "outputs": [
    {
     "name": "stdout",
     "output_type": "stream",
     "text": [
      "feature 평균 값\n",
      "sepal length (cm)    5.843333\n",
      "sepal width (cm)     3.057333\n",
      "petal length (cm)    3.758000\n",
      "petal width (cm)     1.199333\n",
      "dtype: float64\n",
      "\n",
      "feature 평균 값\n",
      "sepal length (cm)    0.685694\n",
      "sepal width (cm)     0.189979\n",
      "petal length (cm)    3.116278\n",
      "petal width (cm)     0.581006\n",
      "dtype: float64\n",
      "feature 평균 값\n",
      "sepal length (cm)   -1.690315e-15\n",
      "sepal width (cm)    -1.842970e-15\n",
      "petal length (cm)   -1.698641e-15\n",
      "petal width (cm)    -1.409243e-15\n",
      "dtype: float64\n",
      "\n",
      "feature 평균 값\n",
      "sepal length (cm)    1.006711\n",
      "sepal width (cm)     1.006711\n",
      "petal length (cm)    1.006711\n",
      "petal width (cm)     1.006711\n",
      "dtype: float64\n"
     ]
    }
   ],
   "source": [
    "from sklearn.datasets import load_iris\n",
    "import pandas as pd \n",
    "\n",
    "iris = load_iris()\n",
    "iris_data = iris.data\n",
    "iris_df = pd.DataFrame(data=iris_data, columns=iris.feature_names)\n",
    "\n",
    "print('feature 평균 값')\n",
    "print(iris_df.mean())\n",
    "\n",
    "print('\\nfeature 평균 값')\n",
    "print(iris_df.var())\n",
    "\n",
    "from sklearn.preprocessing import StandardScaler \n",
    "\n",
    "scaler = StandardScaler()\n",
    "scaler.fit(iris_df)\n",
    "iris_scaled = scaler.transform(iris_df)\n",
    "\n",
    "iris_df_scaled = pd.DataFrame(data = iris_scaled, columns = iris.feature_names)\n",
    "\n",
    "print('feature 평균 값')\n",
    "print(iris_df_scaled.mean())\n",
    "\n",
    "print('\\nfeature 평균 값')\n",
    "print(iris_df_scaled.var())"
   ]
  },
  {
   "cell_type": "markdown",
   "id": "247b0f79-714f-4898-bfc7-c7897873d50a",
   "metadata": {},
   "source": [
    "#### sklearn.preprocessing.MinMaxScaler\n",
    "* class sklearn.preprocessing.MinMaxScaler(feature_range=(0, 1), *, copy=True, clip=False)"
   ]
  },
  {
   "cell_type": "code",
   "execution_count": 2,
   "id": "9326eae9-476e-466f-aafe-c32e13f5e326",
   "metadata": {},
   "outputs": [
    {
     "name": "stdout",
     "output_type": "stream",
     "text": [
      "feature 최솟값\n",
      "sepal length (cm)    0.0\n",
      "sepal width (cm)     0.0\n",
      "petal length (cm)    0.0\n",
      "petal width (cm)     0.0\n",
      "dtype: float64\n",
      "\n",
      "feature 최대값\n",
      "sepal length (cm)    1.0\n",
      "sepal width (cm)     1.0\n",
      "petal length (cm)    1.0\n",
      "petal width (cm)     1.0\n",
      "dtype: float64\n"
     ]
    }
   ],
   "source": [
    "from sklearn.preprocessing import MinMaxScaler \n",
    "\n",
    "scaler = MinMaxScaler()\n",
    "scaler.fit(iris_df)\n",
    "iris_scaled = scaler.transform(iris_df)\n",
    "\n",
    "iris_df_scaled = pd.DataFrame(data = iris_scaled, columns = iris.feature_names)\n",
    "\n",
    "print('feature 최솟값')\n",
    "print(iris_df_scaled.min())\n",
    "\n",
    "print('\\nfeature 최대값')\n",
    "print(iris_df_scaled.max())"
   ]
  },
  {
   "cell_type": "markdown",
   "id": "925bf580-8423-4e3d-a457-ba740991d8cd",
   "metadata": {},
   "source": [
    "#### sklearn.preprocessing.RobustScaler\n",
    "* class sklearn.preprocessing.RobustScaler(*, with_centering=True, with_scaling=True, quantile_range=(25.0, 75.0), copy=True, unit_variance=False)"
   ]
  },
  {
   "cell_type": "raw",
   "id": "8f5bc379-52be-46cb-8ded-e3e444bdc6c8",
   "metadata": {},
   "source": [
    "Robust Scaler는 데이터의 중앙값을 뺀 다음, 사분위수 범위(IQR, Interquartile Range)로 나누어 데이터를 스케일링한다. 이 방법은 특히 이상치(outliers)에 덜 민감한 스케일링을 원할 때 유용하다."
   ]
  },
  {
   "cell_type": "code",
   "execution_count": 3,
   "id": "36ffd7d1-a300-41c8-be61-8cdf8ce09c91",
   "metadata": {},
   "outputs": [
    {
     "name": "stdout",
     "output_type": "stream",
     "text": [
      "feature 중강값은\n",
      "[5.8  3.   4.35 1.3 ]\n",
      "\n",
      " feature \n",
      "[1.3 0.5 3.5 1.5]\n"
     ]
    }
   ],
   "source": [
    "from sklearn.preprocessing import RobustScaler \n",
    "\n",
    "scaler = RobustScaler()\n",
    "scaler.fit(iris_df)\n",
    "iris_scaled = scaler.transform(iris_df)\n",
    "\n",
    "iris_df_scaled = pd.DataFrame(data = iris_scaled, columns = iris.feature_names)\n",
    "\n",
    "print('feature 중강값은')\n",
    "print(scaler.center_)\n",
    "\n",
    "print('\\n feature ')\n",
    "print(scaler.scale_)"
   ]
  },
  {
   "cell_type": "code",
   "execution_count": null,
   "id": "1e888d54-5c70-4228-82f9-1edc8a5b8308",
   "metadata": {},
   "outputs": [],
   "source": []
  }
 ],
 "metadata": {
  "kernelspec": {
   "display_name": "Python 3 (ipykernel)",
   "language": "python",
   "name": "python3"
  },
  "language_info": {
   "codemirror_mode": {
    "name": "ipython",
    "version": 3
   },
   "file_extension": ".py",
   "mimetype": "text/x-python",
   "name": "python",
   "nbconvert_exporter": "python",
   "pygments_lexer": "ipython3",
   "version": "3.12.0"
  }
 },
 "nbformat": 4,
 "nbformat_minor": 5
}
