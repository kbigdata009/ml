{
 "cells": [
  {
   "cell_type": "markdown",
   "id": "06977f7e-fa04-4de1-aee9-0b658e0e5843",
   "metadata": {},
   "source": [
    "#### sklearn.svm.SVC\n",
    "class sklearn.svm.SVC(*, C=1.0, kernel='rbf', degree=3, gamma='scale', coef0=0.0, shrinking=True, probability=False, tol=0.001, cache_size=200, class_weight=None, verbose=False, max_iter=-1, decision_function_shape='ovr', break_ties=False, random_state=None)"
   ]
  },
  {
   "cell_type": "code",
   "execution_count": 7,
   "id": "a6c9da8e-e9a4-42d7-8e14-ab8c1923d346",
   "metadata": {},
   "outputs": [
    {
     "name": "stdout",
     "output_type": "stream",
     "text": [
      "[2 2 0 2 0 1 1 1 2 1 0 2 2 2 2 0 1 2 0 1 2 1 1 1 2 0 0 0 1 0 2 1 0 0 1 0 1\n",
      " 2 1 1 2 0 0 0 2 2 2 0 0 1 2 0 1 2 0 1 2 1 2 1 2 0 0 2 1 1 2 1 2 0 1 0 0 1\n",
      " 0]\n",
      "0.9866666666666667\n"
     ]
    }
   ],
   "source": [
    "from sklearn import datasets \n",
    "iris = datasets.load_iris()\n",
    "x= iris.data \n",
    "y= iris.target \n",
    "from sklearn.model_selection import train_test_split \n",
    "x_tr, x_test,y_tr,y_test = train_test_split(x,y, test_size=0.5, stratify=y, random_state=1)\n",
    "\n",
    "from sklearn import svm \n",
    "clf = svm.SVC(gamma=0.01, C=100)\n",
    "clf.fit(x_tr,y_tr)\n",
    "pred= clf.predict(x_test)\n",
    "print(y_test)\n",
    "from sklearn.metrics import accuracy_score \n",
    "print(accuracy_score(y_test, pred))"
   ]
  },
  {
   "cell_type": "code",
   "execution_count": null,
   "id": "df124623-9ce2-40a5-b9e6-adb3f6b58fe5",
   "metadata": {},
   "outputs": [],
   "source": []
  }
 ],
 "metadata": {
  "kernelspec": {
   "display_name": "Python 3 (ipykernel)",
   "language": "python",
   "name": "python3"
  },
  "language_info": {
   "codemirror_mode": {
    "name": "ipython",
    "version": 3
   },
   "file_extension": ".py",
   "mimetype": "text/x-python",
   "name": "python",
   "nbconvert_exporter": "python",
   "pygments_lexer": "ipython3",
   "version": "3.12.0"
  }
 },
 "nbformat": 4,
 "nbformat_minor": 5
}
